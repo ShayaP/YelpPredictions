{
 "cells": [
  {
   "cell_type": "code",
   "execution_count": 3,
   "metadata": {},
   "outputs": [],
   "source": [
    "import ast\n",
    "import json\n",
    "import random\n",
    "import matplotlib.pyplot as plt\n",
    "from collections import defaultdict\n",
    "import string\n",
    "import numpy as np\n",
    "from sklearn import svm\n",
    "from sklearn.feature_extraction.text import TfidfVectorizer"
   ]
  },
  {
   "cell_type": "markdown",
   "metadata": {},
   "source": [
    "Loading in initial dataset"
   ]
  },
  {
   "cell_type": "code",
   "execution_count": 2,
   "metadata": {},
   "outputs": [],
   "source": [
    "def parseFile(fname):\n",
    "    for l in open(fname, 'r', encoding='utf8'):\n",
    "        yield ast.literal_eval(l)"
   ]
  },
  {
   "cell_type": "code",
   "execution_count": 3,
   "metadata": {
    "scrolled": true
   },
   "outputs": [],
   "source": [
    "data = list(parseFile('yelp_reviews.json'))"
   ]
  },
  {
   "cell_type": "code",
   "execution_count": 4,
   "metadata": {},
   "outputs": [
    {
     "name": "stdout",
     "output_type": "stream",
     "text": [
      "Size of initial dataset 5996996\n"
     ]
    }
   ],
   "source": [
    "print(\"Size of initial dataset\", len(data))"
   ]
  },
  {
   "cell_type": "markdown",
   "metadata": {},
   "source": [
    "Creating a new dataset using 150,000 random data points"
   ]
  },
  {
   "cell_type": "code",
   "execution_count": 5,
   "metadata": {},
   "outputs": [],
   "source": [
    "random.shuffle(data)"
   ]
  },
  {
   "cell_type": "code",
   "execution_count": 6,
   "metadata": {},
   "outputs": [],
   "source": [
    "new_data = data[:175000]"
   ]
  },
  {
   "cell_type": "code",
   "execution_count": 7,
   "metadata": {},
   "outputs": [],
   "source": [
    "with open('data_final.json', 'w') as f:\n",
    "    json.dump(new_data, f)"
   ]
  },
  {
   "cell_type": "code",
   "execution_count": 4,
   "metadata": {},
   "outputs": [],
   "source": [
    "def parseFile2(fname):\n",
    "    for l in open(fname):\n",
    "        yield ast.literal_eval(l)"
   ]
  },
  {
   "cell_type": "code",
   "execution_count": 5,
   "metadata": {},
   "outputs": [],
   "source": [
    "datum = list(parseFile2('data_final.json'))[0]"
   ]
  },
  {
   "cell_type": "code",
   "execution_count": 6,
   "metadata": {},
   "outputs": [
    {
     "name": "stdout",
     "output_type": "stream",
     "text": [
      "Size of new dataset 175000\n"
     ]
    }
   ],
   "source": [
    "print(\"Size of new dataset\", len(datum))"
   ]
  },
  {
   "cell_type": "code",
   "execution_count": 7,
   "metadata": {},
   "outputs": [
    {
     "data": {
      "text/plain": [
       "175000"
      ]
     },
     "execution_count": 7,
     "metadata": {},
     "output_type": "execute_result"
    }
   ],
   "source": [
    "len(datum)"
   ]
  },
  {
   "cell_type": "markdown",
   "metadata": {},
   "source": [
    "Split data into training, testing and validation "
   ]
  },
  {
   "cell_type": "code",
   "execution_count": 8,
   "metadata": {},
   "outputs": [],
   "source": [
    "random.shuffle(datum)\n",
    "training = datum[:100000]\n",
    "validation = datum[100000:150000]\n",
    "testing = datum[150000:]"
   ]
  },
  {
   "cell_type": "markdown",
   "metadata": {},
   "source": [
    "Visualise if cool, funny and useful affect star rating"
   ]
  },
  {
   "cell_type": "code",
   "execution_count": 13,
   "metadata": {},
   "outputs": [],
   "source": [
    "funny = []\n",
    "cool = []\n",
    "useful = []\n",
    "rating = []\n",
    "for d in training:\n",
    "    cool.append(d['cool'])\n",
    "    funny.append(d['funny'])\n",
    "    useful.append(d['useful'])\n",
    "    rating.append(d['stars'])"
   ]
  },
  {
   "cell_type": "code",
   "execution_count": 14,
   "metadata": {},
   "outputs": [
    {
     "name": "stdout",
     "output_type": "stream",
     "text": [
      "100000 100000 100000 100000\n"
     ]
    }
   ],
   "source": [
    "print(len(cool), len(funny), len(useful), len(rating))"
   ]
  },
  {
   "cell_type": "code",
   "execution_count": 15,
   "metadata": {},
   "outputs": [
    {
     "data": {
      "text/plain": [
       "<matplotlib.collections.PathCollection at 0x2517ac37ef0>"
      ]
     },
     "execution_count": 15,
     "metadata": {},
     "output_type": "execute_result"
    },
    {
     "data": {
      "image/png": "[encoded data removed]",
      "text/plain": [
       "<Figure size 432x288 with 1 Axes>"
      ]
     },
     "metadata": {
      "needs_background": "light"
     },
     "output_type": "display_data"
    }
   ],
   "source": [
    "plt.scatter(rating, cool)"
   ]
  },
  {
   "cell_type": "code",
   "execution_count": 16,
   "metadata": {},
   "outputs": [
    {
     "data": {
      "text/plain": [
       "<matplotlib.collections.PathCollection at 0x25255f4bf28>"
      ]
     },
     "execution_count": 16,
     "metadata": {},
     "output_type": "execute_result"
    },
    {
     "data": {
      "image/png": "[encoded data removed]",
      "text/plain": [
       "<Figure size 432x288 with 1 Axes>"
      ]
     },
     "metadata": {
      "needs_background": "light"
     },
     "output_type": "display_data"
    }
   ],
   "source": [
    "plt.scatter(rating, useful)"
   ]
  },
  {
   "cell_type": "code",
   "execution_count": 17,
   "metadata": {},
   "outputs": [
    {
     "data": {
      "text/plain": [
       "<matplotlib.collections.PathCollection at 0x2525527ba58>"
      ]
     },
     "execution_count": 17,
     "metadata": {},
     "output_type": "execute_result"
    },
    {
     "data": {
      "image/png": "[encoded data removed]",
      "text/plain": [
       "<Figure size 432x288 with 1 Axes>"
      ]
     },
     "metadata": {
      "needs_background": "light"
     },
     "output_type": "display_data"
    }
   ],
   "source": [
    "plt.scatter(rating, funny)"
   ]
  },
  {
   "cell_type": "markdown",
   "metadata": {},
   "source": [
    "Remove date and other features that do not affect star rating "
   ]
  },
  {
   "cell_type": "code",
   "execution_count": 18,
   "metadata": {},
   "outputs": [],
   "source": [
    "for d in training:\n",
    "    del d['date']\n",
    "    del d['funny']\n",
    "    del d['review_id']"
   ]
  },
  {
   "cell_type": "code",
   "execution_count": 19,
   "metadata": {},
   "outputs": [],
   "source": [
    "for d in validation:\n",
    "    del d['date']\n",
    "    del d['funny']\n",
    "    del d['review_id']"
   ]
  },
  {
   "cell_type": "markdown",
   "metadata": {},
   "source": [
    "Create dictionary for all the users and a dictionary for all the restaurants"
   ]
  },
  {
   "cell_type": "code",
   "execution_count": 36,
   "metadata": {},
   "outputs": [],
   "source": [
    "users = defaultdict(tuple)\n",
    "restaurants = defaultdict(tuple)\n",
    "for d in datum:\n",
    "    user, business = d['user_id'], d['business_id']\n",
    "    text, cool, useful, stars = d['text'], d['cool'], d['useful'], d['stars']\n",
    "    users[user] += (stars, text, cool, useful, business)\n",
    "    restaurants[business] += (stars, text, cool, useful, user)"
   ]
  },
  {
   "cell_type": "code",
   "execution_count": 37,
   "metadata": {},
   "outputs": [
    {
     "name": "stdout",
     "output_type": "stream",
     "text": [
      "number of restaurants:  65288  number of users:  132483\n"
     ]
    }
   ],
   "source": [
    "print('number of restaurants: ', len(restaurants), \" number of users: \",len(users))"
   ]
  },
  {
   "cell_type": "markdown",
   "metadata": {},
   "source": [
    "Create baseline using the overall average ratings of all restaurants"
   ]
  },
  {
   "cell_type": "code",
   "execution_count": 22,
   "metadata": {},
   "outputs": [
    {
     "name": "stdout",
     "output_type": "stream",
     "text": [
      "4\n"
     ]
    }
   ],
   "source": [
    "totalStars = 0\n",
    "for values in restaurants.values():\n",
    "    totalStars += values[3]\n",
    "avgRating = round(totalStars / len(restaurants))\n",
    "print(avgRating)"
   ]
  },
  {
   "cell_type": "markdown",
   "metadata": {},
   "source": [
    "Accuracy of this baseline on the validation set:"
   ]
  },
  {
   "cell_type": "code",
   "execution_count": 23,
   "metadata": {},
   "outputs": [
    {
     "name": "stdout",
     "output_type": "stream",
     "text": [
      "50000 50000\n"
     ]
    }
   ],
   "source": [
    "pred = [avgRating for i in validation]\n",
    "y = [i['stars'] for i in validation]\n",
    "print(len(pred), len(y))"
   ]
  },
  {
   "cell_type": "code",
   "execution_count": 24,
   "metadata": {},
   "outputs": [
    {
     "name": "stdout",
     "output_type": "stream",
     "text": [
      "The accuracy of this baseline is:  0.21972\n"
     ]
    }
   ],
   "source": [
    "score = []\n",
    "for i in range(len(pred)):\n",
    "    if pred[i] == y[i]:\n",
    "        score.append(1)\n",
    "    else:\n",
    "        score.append(0)\n",
    "acc = sum(score) / len(score)\n",
    "print('The accuracy of this baseline is: ', acc)"
   ]
  },
  {
   "cell_type": "markdown",
   "metadata": {},
   "source": [
    "Create a baseline using the most common rating"
   ]
  },
  {
   "cell_type": "code",
   "execution_count": 25,
   "metadata": {},
   "outputs": [
    {
     "data": {
      "text/plain": [
       "5"
      ]
     },
     "execution_count": 25,
     "metadata": {},
     "output_type": "execute_result"
    }
   ],
   "source": [
    "ratingMap = defaultdict(int)\n",
    "for d in training:\n",
    "    if d['stars'] == 0:\n",
    "        ratingMap[0] += 1\n",
    "    elif d['stars'] == 1:\n",
    "        ratingMap[1] += 1\n",
    "    elif d['stars'] == 2:\n",
    "        ratingMap[2] += 1\n",
    "    elif d['stars'] == 3:\n",
    "        ratingMap[3] += 1\n",
    "    elif d['stars'] == 4:\n",
    "        ratingMap[4] += 1\n",
    "    elif d['stars'] == 5:\n",
    "        ratingMap[5] += 1\n",
    "most_common = sorted(ratingMap, key=ratingMap.get, reverse=True)[0]\n",
    "most_common"
   ]
  },
  {
   "cell_type": "markdown",
   "metadata": {},
   "source": [
    "Accuracy of this baseline on the validation set:"
   ]
  },
  {
   "cell_type": "code",
   "execution_count": 26,
   "metadata": {},
   "outputs": [
    {
     "name": "stdout",
     "output_type": "stream",
     "text": [
      "50000 50000\n"
     ]
    }
   ],
   "source": [
    "pred = [most_common for i in validation]\n",
    "y = [d['stars'] for d in validation]\n",
    "print(len(y), len(pred))"
   ]
  },
  {
   "cell_type": "code",
   "execution_count": 27,
   "metadata": {},
   "outputs": [
    {
     "name": "stdout",
     "output_type": "stream",
     "text": [
      "The accuracy of this baseline is:  0.44356\n"
     ]
    }
   ],
   "source": [
    "score = []\n",
    "for i in range(len(pred)):\n",
    "    if pred[i] == y[i]:\n",
    "        score.append(1)\n",
    "    else:\n",
    "        score.append(0)\n",
    "acc = sum(score) / len(score)\n",
    "print('The accuracy of this baseline is: ', acc)"
   ]
  },
  {
   "cell_type": "markdown",
   "metadata": {},
   "source": [
    "Create a list of the most popular restaurants and users"
   ]
  },
  {
   "cell_type": "code",
   "execution_count": 9,
   "metadata": {},
   "outputs": [],
   "source": [
    "#retrain the baseline on just the new train data\n",
    "businessCount = defaultdict(int)\n",
    "userCount = defaultdict(int)\n",
    "totalPurchases = 0\n",
    "\n",
    "#item pop:\n",
    "for tup in training:\n",
    "    item = tup['business_id']\n",
    "    user = tup['user_id']\n",
    "    businessCount[item] += 1\n",
    "    userCount[user] += 1\n",
    "    totalPurchases += 1\n",
    "\n",
    "mostPopular = [(businessCount[x], x) for x in businessCount]\n",
    "mostPopular.sort()\n",
    "mostPopular.reverse()\n",
    "\n",
    "return1 = set()\n",
    "count = 0\n",
    "for ic, i in mostPopular:\n",
    "    count += ic\n",
    "    return1.add(i)\n",
    "    if count > totalPurchases/2: break\n",
    "        \n",
    "mostPopular = [(userCount[x], x) for x in userCount]\n",
    "mostPopular.sort()\n",
    "mostPopular.reverse()\n",
    "\n",
    "return2 = set()\n",
    "count = 0\n",
    "for ic, i in mostPopular:\n",
    "    count += ic\n",
    "    return2.add(i)\n",
    "    if count > totalPurchases/2: break"
   ]
  },
  {
   "cell_type": "code",
   "execution_count": 10,
   "metadata": {},
   "outputs": [
    {
     "name": "stdout",
     "output_type": "stream",
     "text": [
      "7793 32046\n"
     ]
    }
   ],
   "source": [
    "print(len(return1), len(return2))"
   ]
  },
  {
   "cell_type": "markdown",
   "metadata": {},
   "source": [
    "Use frequent words to get a list of the 1000 most commonly occuring words"
   ]
  },
  {
   "cell_type": "code",
   "execution_count": 11,
   "metadata": {},
   "outputs": [],
   "source": [
    "words_cat = defaultdict(list)\n",
    "userCatCounts = defaultdict(list)\n",
    "\n",
    "for d in training:\n",
    "    star = d['stars']\n",
    "    user = d['user_id']\n",
    "    if user not in userCatCounts:\n",
    "        userCatCounts[user] = [0, 0, 0, 0, 0, 0]\n",
    "    if star == 1:\n",
    "        words_cat[1].append(d)\n",
    "        userCatCounts[user][1] += 1\n",
    "    elif star == 2:\n",
    "        words_cat[2].append(d)\n",
    "        userCatCounts[user][2] += 1\n",
    "    elif star == 3:\n",
    "        words_cat[3].append(d)\n",
    "        userCatCounts[user][3] += 1\n",
    "    elif star == 4:\n",
    "        words_cat[4].append(d)\n",
    "        userCatCounts[user][4] += 1\n",
    "    elif star == 5:\n",
    "        words_cat[5].append(d)\n",
    "        userCatCounts[user][5] += 1"
   ]
  },
  {
   "cell_type": "code",
   "execution_count": 12,
   "metadata": {},
   "outputs": [],
   "source": [
    "def computeCounts(data):\n",
    "    wc = defaultdict(int)\n",
    "    punctuation = set(string.punctuation)\n",
    "    for tup in data:\n",
    "        r = ''.join([c for c in tup['text'].lower() if not c in punctuation])\n",
    "        for w in r.split():\n",
    "            wc[w] += 1\n",
    "    return wc\n",
    "\n",
    "def getTopWords(data):\n",
    "    #get the 1000 most common words\n",
    "    common = set(['a', 'and', 'but', 'from', 'to', 'on', 'for', 'the', 'of'])\n",
    "    counts = [(data[w], w) for w in data]\n",
    "    counts.sort()\n",
    "    counts.reverse()\n",
    "    words = [x for x in counts[:1000] if not x in common]\n",
    "    return words"
   ]
  },
  {
   "cell_type": "code",
   "execution_count": 13,
   "metadata": {},
   "outputs": [],
   "source": [
    "#preprocess the data and find the counts for each word.\n",
    "wordCount = computeCounts(training)\n",
    "commonWords = getTopWords(wordCount)\n",
    "\n",
    "#find the frequency of these words in all reviews\n",
    "total = 0\n",
    "for tup in commonWords:\n",
    "    total += tup[0]\n",
    "freqWordsTotal = {}\n",
    "for x in commonWords:\n",
    "    freqWordsTotal[x[1]] = x[0] / total\n",
    "    "
   ]
  },
  {
   "cell_type": "code",
   "execution_count": 14,
   "metadata": {},
   "outputs": [],
   "source": [
    "# now we compute the same thing but for reviews in each of the 1, 2, 3, 4, 5 start category\n",
    "catFreqs = defaultdict(dict)\n",
    "for i in np.arange(1, 6):\n",
    "    wc = computeCounts(words_cat[i])\n",
    "    total = 0\n",
    "    new_dict = {}\n",
    "    for key, val in list(freqWordsTotal.items()):\n",
    "        total += wc[key]\n",
    "    for key, val in list(freqWordsTotal.items()):\n",
    "        new_dict[key] = wc[key] / total\n",
    "    catFreqs[i] = new_dict"
   ]
  },
  {
   "cell_type": "code",
   "execution_count": 15,
   "metadata": {},
   "outputs": [],
   "source": [
    "temp_dict ={}\n",
    "topWords = defaultdict(list)\n",
    "for i in np.arange(1, 6):\n",
    "    l = []\n",
    "    for key, val in list(freqWordsTotal.items()):\n",
    "        diff = catFreqs[i][key] - val\n",
    "        l.append((diff, key))\n",
    "    temp_dict[i] = l\n",
    "for i in np.arange(1, 6):\n",
    "    temp_dict[i].sort()\n",
    "    temp_dict[i].reverse()\n",
    "    for x in np.arange(300, 1000):\n",
    "        topWords[i].append(temp_dict[i][x])"
   ]
  },
  {
   "cell_type": "code",
   "execution_count": 16,
   "metadata": {},
   "outputs": [],
   "source": [
    "finalWords = []\n",
    "for val in topWords.values():\n",
    "    finalWords.extend(val)"
   ]
  },
  {
   "cell_type": "code",
   "execution_count": 17,
   "metadata": {},
   "outputs": [
    {
     "name": "stdout",
     "output_type": "stream",
     "text": [
      "3500\n"
     ]
    }
   ],
   "source": [
    "final_words_set = set(finalWords)\n",
    "print(len(final_words_set))"
   ]
  },
  {
   "cell_type": "code",
   "execution_count": 18,
   "metadata": {},
   "outputs": [
    {
     "data": {
      "text/plain": [
       "{(-6.984620689669994e-05, 'helped'),\n",
       " (-4.977221042072084e-05, 'knew'),\n",
       " (2.358081410219027e-06, 'tender'),\n",
       " (2.8259107231391316e-05, 'cup'),\n",
       " (-8.579447613166376e-05, 'leave'),\n",
       " (-0.000255906417365311, 'dessert'),\n",
       " (1.0944361944318086e-05, 'wine'),\n",
       " (-1.3629170809855546e-05, 'sell'),\n",
       " (-1.1124604280889918e-06, 'picked'),\n",
       " (1.340556631256425e-05, 'honestly'),\n",
       " (-2.0442993817377858e-05, 'seeing'),\n",
       " (-5.527119984045204e-05, 'fact'),\n",
       " (-0.00023278095981051354, 'well'),\n",
       " (-7.417416069426181e-05, 'worth'),\n",
       " (-2.6554251494275306e-05, 'run'),\n",
       " (-2.4987250818813252e-05, 'beers'),\n",
       " (-1.326764396076467e-05, 'crust'),\n",
       " (-0.00032213664793342707, 'still'),\n",
       " (6.606682297680876e-06, 'lamb'),\n",
       " (-4.472031883944644e-05, 'simply'),\n",
       " (-0.00010918453999586435, 'outstanding'),\n",
       " (1.3142662592618255e-06, 'toronto'),\n",
       " (-0.00014169951069952484, 'finally'),\n",
       " (2.4992139058593166e-05, 'run'),\n",
       " (8.94217320810748e-06, 'bring'),\n",
       " (-0.00023682340463516624, 'had'),\n",
       " (-0.00035519741275756925, 'us'),\n",
       " (-0.00010441419576645233, 'average'),\n",
       " (3.27231860629454e-05, 'attention'),\n",
       " (-3.137328620848813e-05, 'bacon'),\n",
       " (-1.4046848031097257e-05, 'use'),\n",
       " (-0.0001346991463093616, 'outstanding'),\n",
       " (-0.00019400959308907718, 'didnt'),\n",
       " (-5.6633353912761725e-05, 'stuff'),\n",
       " (-0.0002044802905526993, 'stars'),\n",
       " (-6.373177602806327e-05, 'talk'),\n",
       " (-6.068710925930727e-05, 'bought'),\n",
       " (-0.00027892334866099546, 'special'),\n",
       " (3.6262332248407564e-05, 'comes'),\n",
       " (-2.8898453840362013e-05, 'piece'),\n",
       " (2.3347888698694772e-05, 'id'),\n",
       " (-0.00021989800798302012, 'all'),\n",
       " (-2.361402788228343e-05, 'la'),\n",
       " (-3.476370424437478e-05, 'places'),\n",
       " (-4.257205935188251e-06, 'decor'),\n",
       " (-3.981863813831655e-05, 'times'),\n",
       " (5.136805225260983e-05, 'plus'),\n",
       " (-7.535932115849308e-05, 'team'),\n",
       " (-4.051689029955694e-05, 'across'),\n",
       " (-1.803108323372718e-05, 'young'),\n",
       " (-2.2381473438849134e-05, 'stopped'),\n",
       " (1.4018092681815863e-05, 'restaurants'),\n",
       " (-7.996445275739269e-05, 'cream'),\n",
       " (-9.26703082636221e-05, 'helped'),\n",
       " (-4.3125834804332843e-05, 'help'),\n",
       " (-2.2542123051340454e-05, 'next'),\n",
       " (-9.694457799288366e-05, 'then'),\n",
       " (-0.0001602072676333191, 'money'),\n",
       " (-0.00013771817793703072, 'parking'),\n",
       " (1.736225681381193e-05, 'level'),\n",
       " (-3.257091195391421e-05, 'exactly'),\n",
       " (2.6565344742126705e-05, 'waited'),\n",
       " (-0.00011648264259856767, 'mexican'),\n",
       " (-2.098097732165113e-05, 'pho'),\n",
       " (-3.0084862874706384e-05, 'unique'),\n",
       " (-0.00034390421842307544, 'manager'),\n",
       " (-0.000914648201705651, 'this'),\n",
       " (-0.0005856974129225053, 'never'),\n",
       " (-5.797385019365453e-05, 'next'),\n",
       " (4.515409994186787e-06, 'actually'),\n",
       " (-4.5135639605157e-05, 'hear'),\n",
       " (4.0627902416710425e-05, 'card'),\n",
       " (-5.063477683303543e-05, 'thai'),\n",
       " (1.4883025003519044e-05, 'talking'),\n",
       " (-8.285219898021399e-05, 'patient'),\n",
       " (-0.0002685738289446123, 'hair'),\n",
       " (-3.4337924245154673e-05, 'between'),\n",
       " (1.2846428093892155e-05, 'thick'),\n",
       " (4.842508478270467e-06, 'especially'),\n",
       " (2.5939257888470558e-05, 'anyway'),\n",
       " (3.41543328898485e-05, 'first'),\n",
       " (2.374545916083561e-05, 'eggs'),\n",
       " (3.85876395747955e-05, 'open'),\n",
       " (1.432347615126946e-05, 'youll'),\n",
       " (1.3040047963442324e-05, 'options'),\n",
       " (-2.3131164601670855e-05, 'ended'),\n",
       " (-7.749846793288012e-05, 'soup'),\n",
       " (-7.267856287082613e-05, 'wouldnt'),\n",
       " (-4.2965839865097125e-05, 'since'),\n",
       " (2.6245703238582537e-05, 'offer'),\n",
       " (2.5422847563935473e-05, 'as'),\n",
       " (1.8668072547694663e-05, 'onion'),\n",
       " (-4.300694242722957e-06, 'move'),\n",
       " (-9.445202998838829e-05, 'werent'),\n",
       " (-0.000223637429944349, 'sandwich'),\n",
       " (-8.741795850546819e-05, 'hands'),\n",
       " (4.92672104165057e-05, 'regular'),\n",
       " (2.3897279242595103e-05, 'ramen'),\n",
       " (-2.5878772128222483e-05, 'comes'),\n",
       " (-0.00017824125556623917, 'off'),\n",
       " (-3.132899664999941e-05, 'eating'),\n",
       " (-4.167384645997619e-05, 'months'),\n",
       " (2.488485423433743e-05, 'needs'),\n",
       " (-7.758604268005593e-05, 'sent'),\n",
       " (-0.00019029916810529588, 'later'),\n",
       " (-9.664223888697315e-05, 'tender'),\n",
       " (-2.4036401550539305e-05, 'morning'),\n",
       " (-6.0918126418200644e-05, 'outstanding'),\n",
       " (-0.00016570822144291252, 'customers'),\n",
       " (3.4271584240266515e-05, 'yourself'),\n",
       " (-3.170252573765343e-05, 'school'),\n",
       " (-2.083999069373062e-05, 'girls'),\n",
       " (-0.0003987171118677909, 'for'),\n",
       " (2.1528666348773944e-05, 'part'),\n",
       " (-0.00021508279190217048, 'pay'),\n",
       " (-6.236178649277287e-05, 'knows'),\n",
       " (-1.0163708828494968e-05, 'mom'),\n",
       " (-3.294284635825583e-05, 'hour'),\n",
       " (-7.819056058103387e-05, 'truly'),\n",
       " (-2.146056515625063e-05, 'did'),\n",
       " (2.4632618530989303e-05, 'okay'),\n",
       " (-0.0013234929768472879, 'this'),\n",
       " (-3.3894370504373625e-05, 'without'),\n",
       " (1.9308506792153733e-05, 'anyway'),\n",
       " (-5.4407424028953195e-06, 'milk'),\n",
       " (-7.466044540102064e-05, 'parking'),\n",
       " (-0.00014797731269566286, 'rolls'),\n",
       " (-0.00011797764928617265, 'packed'),\n",
       " (-3.251913033112017e-05, 'filled'),\n",
       " (-5.782094067704677e-05, 'up'),\n",
       " (-5.519983267574866e-05, 'tiny'),\n",
       " (-7.422243280492616e-05, 'questions'),\n",
       " (1.5039975017900296e-05, 'attention'),\n",
       " (-7.569614557455728e-05, 'can'),\n",
       " (3.2077258121870244e-05, 'note'),\n",
       " (-3.52855281117409e-05, 'interesting'),\n",
       " (-7.049805128262512e-05, 'already'),\n",
       " (1.6288756291568912e-05, 'mine'),\n",
       " (-0.0002791533128633282, 'ive'),\n",
       " (-0.00046544868066643926, 'their'),\n",
       " (-2.3183187037640446e-05, 'beans'),\n",
       " (4.149341211862127e-05, 'bowl'),\n",
       " (-3.2171348658032717e-05, '100'),\n",
       " (4.95127608861436e-05, 'milk'),\n",
       " (-2.5298391178318267e-05, 'de'),\n",
       " (-1.6636351743443828e-06, 'since'),\n",
       " (-3.0541650172393386e-05, 'big'),\n",
       " (-1.6770584396898105e-05, 'decided'),\n",
       " (-0.0002847980704518147, 'an'),\n",
       " (-1.4815272341265641e-05, 'ate'),\n",
       " (-5.819609978673581e-05, 'weve'),\n",
       " (-0.0030383885851324576, 'is'),\n",
       " (1.721523644234818e-06, 'added'),\n",
       " (-9.050438232217916e-05, 'easy'),\n",
       " (-1.8644269319126685e-05, 'door'),\n",
       " (4.5829246011294965e-05, 'idea'),\n",
       " (-0.00017405918297102083, 'bacon'),\n",
       " (-0.00039204761595664633, 'of'),\n",
       " (-2.432535733512206e-06, 'value'),\n",
       " (-4.852315237331612e-05, 'anywhere'),\n",
       " (4.3768004155094934e-05, 'min'),\n",
       " (-0.0020059152329146472, 'but'),\n",
       " (5.321492005293466e-06, 'how'),\n",
       " (-9.564992568987225e-06, 'bread'),\n",
       " (3.937046377339832e-05, 'next'),\n",
       " (-0.0001075313910273417, 'high'),\n",
       " (-4.8432486870785495e-05, 'use'),\n",
       " (-2.1230881984966898e-05, 'yes'),\n",
       " (-0.00015682028241481815, 'probably'),\n",
       " (3.89957991906298e-05, 'onions'),\n",
       " (3.021188911848355e-05, 'mean'),\n",
       " (-0.00020608335047922276, 'fan'),\n",
       " (-0.0055831378301174975, 'and'),\n",
       " (-2.331810664705277e-05, 'could'),\n",
       " (-8.516577712808639e-05, 'need'),\n",
       " (-2.1319556102835713e-05, 'finished'),\n",
       " (2.439625735565175e-05, 'dining'),\n",
       " (3.122178683930433e-05, 'gets'),\n",
       " (-0.00016481700201337893, 'average'),\n",
       " (-5.957883237422154e-05, 'exactly'),\n",
       " (1.4520316247227316e-05, 'stopped'),\n",
       " (-0.00038947187419466, 'they'),\n",
       " (-6.687936703103043e-05, 'disappointing'),\n",
       " (-1.580438664391384e-05, 'side'),\n",
       " (-1.3554718220798874e-05, 'box'),\n",
       " (-1.1507386187068283e-05, 'felt'),\n",
       " (-0.0003439794704315274, 'so'),\n",
       " (-0.00013608539731666154, 'never'),\n",
       " (-1.0795396544059464e-05, 'fair'),\n",
       " (-0.00024082399301516785, 'home'),\n",
       " (2.9675994364289344e-05, 'stayed'),\n",
       " (-3.543068791128229e-05, 'save'),\n",
       " (3.353299838155342e-05, 'lost'),\n",
       " (1.3376398943033992e-05, 'weeks'),\n",
       " (4.0508679864097934e-05, 'choices'),\n",
       " (-9.752494354361968e-06, 'four'),\n",
       " (2.9559523318812078e-05, 'on'),\n",
       " (-1.8154094850491084e-05, 'hand'),\n",
       " (1.884519446575532e-05, 'point'),\n",
       " (-9.187077583429481e-05, 'expensive'),\n",
       " (-5.772368915311801e-05, 'hard'),\n",
       " (-5.2452443304127814e-05, 'hours'),\n",
       " (-7.839165747054132e-05, 'fair'),\n",
       " (-4.691079302280893e-05, 'white'),\n",
       " (-0.00026944950386159747, 'hair'),\n",
       " (-0.00015343324241098508, 'fries'),\n",
       " (-5.7985890666548376e-05, 'visiting'),\n",
       " (-4.8900773303420155e-06, 'mac'),\n",
       " (-2.7763625314497758e-05, 'part'),\n",
       " (2.6767656198220893e-05, 'old'),\n",
       " (-2.2884156869891568e-05, 'felt'),\n",
       " (-9.441786388673262e-07, 'comes'),\n",
       " (-7.414172991174499e-05, 'received'),\n",
       " (-3.3735537048110154e-05, 'red'),\n",
       " (-0.00022973515601895287, 'left'),\n",
       " (-1.3747071618253309e-06, 'stayed'),\n",
       " (-0.00023330343859407406, 'phone'),\n",
       " (-4.168673506719741e-05, 'lot'),\n",
       " (-8.784326744781204e-06, 'yet'),\n",
       " (-0.00015168401498554844, 'variety'),\n",
       " (-3.1632569841409e-05, 'regular'),\n",
       " (2.7989727003981666e-05, 'services'),\n",
       " (-9.467599087819648e-05, 'charge'),\n",
       " (-5.2276250737904776e-05, 'class'),\n",
       " (9.157510856070642e-06, 'phoenix'),\n",
       " (-0.0003321722955001438, 'new'),\n",
       " (1.1795082340480996e-05, 'getting'),\n",
       " (-0.00026516871167655415, 'out'),\n",
       " (-9.687541046422973e-05, 'rude'),\n",
       " (2.2328366515189787e-05, 'gave'),\n",
       " (-0.00012935294184889134, 'red'),\n",
       " (-0.0002955420039634591, 'large'),\n",
       " (8.440726274824427e-06, 'ate'),\n",
       " (-2.1405408929174813e-05, 'return'),\n",
       " (-9.791923929812885e-05, 'vegetarian'),\n",
       " (-0.00023457127051033097, 'few'),\n",
       " (-9.439327657500684e-05, 'months'),\n",
       " (-0.0001112355992177582, 'charged'),\n",
       " (-0.0003227351210317599, 'table'),\n",
       " (2.209090802665899e-05, 'black'),\n",
       " (-7.000116676483933e-05, 'wings'),\n",
       " (1.1649988840528364e-05, 'weekend'),\n",
       " (7.925460587851377e-06, 'end'),\n",
       " (-2.2049377058410894e-05, 'oil'),\n",
       " (2.456762396618777e-05, 'trip'),\n",
       " (-0.00014242953469456918, 'hotel'),\n",
       " (-2.1531603790560228e-05, 'beautiful'),\n",
       " (-0.00014893946181687048, 'bill'),\n",
       " (-5.339550939403119e-05, 'change'),\n",
       " (-1.2214836569725713e-05, 'hear'),\n",
       " (-0.0002342949232551807, 'meat'),\n",
       " (2.9997230523943228e-05, 'waiter'),\n",
       " (-0.00013948172355330625, 'area'),\n",
       " (3.861641841786855e-06, 'taco'),\n",
       " (2.0056536019781362e-05, 'looking'),\n",
       " (-0.00012333831422568065, 'owner'),\n",
       " (-8.733940929484374e-05, 'phoenix'),\n",
       " (2.3616510213493374e-06, 'review'),\n",
       " (-2.9816844583888016e-06, 'stand'),\n",
       " (-4.754344639352012e-06, 'nail'),\n",
       " (1.2651475850342336e-05, 'bottle'),\n",
       " (-3.1691926763979204e-05, 'immediately'),\n",
       " (-4.5531922521441204e-05, 'need'),\n",
       " (3.38471154627922e-05, 'rolls'),\n",
       " (-4.884061614626842e-06, 'building'),\n",
       " (-1.2930580957200017e-05, 'offer'),\n",
       " (-2.2328373190176333e-05, 'baked'),\n",
       " (-0.00011034349382536292, 'home'),\n",
       " (-0.00012718855235133478, 'french'),\n",
       " (4.3129141675746804e-05, 'kind'),\n",
       " (-2.5514969943856488e-05, 'them'),\n",
       " (-0.0009644217642721339, 'also'),\n",
       " (-9.694897572974161e-05, 'beans'),\n",
       " (-5.978845604311838e-05, 'surprised'),\n",
       " (-1.2426786838622069e-05, 'taking'),\n",
       " (-0.00013299530853081798, 'extremely'),\n",
       " (-0.00011346604710516081, 'anything'),\n",
       " (-0.00011175122042503803, 'first'),\n",
       " (2.2274281269185484e-05, 'feeling'),\n",
       " (-0.0004803048585996874, 'customer'),\n",
       " (-3.899864558319519e-05, 'questions'),\n",
       " (2.6546340341752515e-06, 'working'),\n",
       " (-4.469327371731899e-05, 'pleasant'),\n",
       " (-1.11684025787893e-05, 'products'),\n",
       " (-2.4553630283995263e-05, 'due'),\n",
       " (-0.00010892866638999283, 'ask'),\n",
       " (-4.316018686787202e-05, 'lady'),\n",
       " (-5.0579853727562174e-05, 'pieces'),\n",
       " (-3.213168593600572e-05, 'store'),\n",
       " (-0.00043535103578308965, 'so'),\n",
       " (-3.604793004827211e-05, 'cooked'),\n",
       " (-9.121490161880045e-05, 'style'),\n",
       " (-0.0001296088990467261, 'bit'),\n",
       " (-1.9430271734180156e-05, 'cake'),\n",
       " (2.2393598670477125e-05, 'lobster'),\n",
       " (-0.00037132717037775944, 'loved'),\n",
       " (-5.2392781613783606e-05, 'visiting'),\n",
       " (-4.129193438509902e-05, 'tacos'),\n",
       " (-4.227558055194266e-05, 'comes'),\n",
       " (-9.029838461281007e-06, 'black'),\n",
       " (3.812354882558192e-05, 'easy'),\n",
       " (-0.00014932299775140544, 'ok'),\n",
       " (-6.579815364522322e-05, 'away'),\n",
       " (-0.00021493659505879097, 'everyone'),\n",
       " (2.848675736913015e-05, 'sides'),\n",
       " (-1.9106630156524336e-05, 'seem'),\n",
       " (-0.0006236745957885848, 'them'),\n",
       " (-0.00013396550872511444, 'these'),\n",
       " (-6.649136582485241e-06, 'rolls'),\n",
       " (3.845726599090317e-06, 'finished'),\n",
       " (-6.33862917926564e-05, 'burrito'),\n",
       " (-6.70243835714427e-05, 'expected'),\n",
       " (-0.0003753601676507376, 'much'),\n",
       " (3.8507182507200503e-05, 'using'),\n",
       " (-4.485417237913644e-05, 'purchase'),\n",
       " (-0.00023318170217439708, 'call'),\n",
       " (-0.00014333457267083578, 'nails'),\n",
       " (-4.5813615580746225e-05, 'serve'),\n",
       " (-5.873530857924855e-06, 'sell'),\n",
       " (-4.041718129371832e-05, 'wife'),\n",
       " (-2.727747936264496e-05, 'five'),\n",
       " (2.7713615366942092e-06, 'french'),\n",
       " (-7.611468905532935e-05, 'course'),\n",
       " (-8.823893107166912e-05, 'oh'),\n",
       " (-0.00019437450674991775, 'music'),\n",
       " (-0.00020413681450559388, 'thai'),\n",
       " (4.849815934142212e-05, 'vegas'),\n",
       " (2.05460004998809e-05, 'between'),\n",
       " (-0.00044079854301069143, 'awesome'),\n",
       " (-4.740023277456159e-05, 'anyway'),\n",
       " (-0.00022310371167204147, 'easy'),\n",
       " (-4.32252925058081e-05, 'needs'),\n",
       " (-1.7701076324048222e-05, 'roll'),\n",
       " (-6.749276554003745e-05, 'find'),\n",
       " (-0.00025698774220955334, 'could'),\n",
       " (-0.000257324491302649, 'worst'),\n",
       " (5.182292600230959e-05, 'cash'),\n",
       " (-0.000747496726461364, 'recommend'),\n",
       " (2.9753511689137226e-06, 'watch'),\n",
       " (-7.563279112434579e-05, 'breakfast'),\n",
       " (1.4104733833848531e-05, '8'),\n",
       " (2.8357115552669768e-05, '7'),\n",
       " (-8.378440383411678e-05, 'employees'),\n",
       " (-0.00014699160762634612, 'couldnt'),\n",
       " (1.6512982162723893e-05, 'touch'),\n",
       " (-1.719766271101854e-05, 'mind'),\n",
       " (-6.035120931366649e-05, 'evening'),\n",
       " (2.4787163294000194e-05, 'almost'),\n",
       " (-8.290850940940523e-05, 'fixed'),\n",
       " (-1.658451382625012e-05, 'finish'),\n",
       " (-0.00039484401488129204, 'then'),\n",
       " (6.578044100864468e-05, 'under'),\n",
       " (-1.208729423824421e-05, 'goes'),\n",
       " (-1.4353677305762951e-05, 'add'),\n",
       " (4.1275142498342214e-05, 'itself'),\n",
       " (-0.00015242845028101964, 'paid'),\n",
       " (-2.027629574208182e-06, 'bed'),\n",
       " (2.5184256067046698e-05, 'somewhere'),\n",
       " (-0.0005224478499370614, 'us'),\n",
       " (-4.3950407535130436e-05, 'expect'),\n",
       " (2.2033529188266636e-05, 'bar'),\n",
       " (6.38259558137394e-05, 'fixed'),\n",
       " (2.5050747290776473e-05, 'stayed'),\n",
       " (-3.651611843177886e-05, 'simply'),\n",
       " (-7.235727652866889e-05, 'server'),\n",
       " (-2.2553627912857803e-05, 'hot'),\n",
       " (-1.7141427540206855e-05, 'certainly'),\n",
       " (-7.996915796196601e-05, 'toast'),\n",
       " (-1.7488256443480023e-05, 'cut'),\n",
       " (-6.066416281188656e-05, 'cannot'),\n",
       " (-0.00010739733613336817, 'able'),\n",
       " (-4.721380184925534e-05, 'coming'),\n",
       " (-3.757343458843924e-06, 'added'),\n",
       " (-0.0001586393316852315, 'must'),\n",
       " (-0.00019148417041281343, 'reasonable'),\n",
       " (5.08570262825481e-06, 'corn'),\n",
       " (-3.152364585472982e-05, 'down'),\n",
       " (-0.00010666730748541822, 'year'),\n",
       " (-0.0007982673566656478, 'recommend'),\n",
       " (4.3048034802538874e-05, 'case'),\n",
       " (-6.514995535002296e-05, 'arrived'),\n",
       " (2.4409648953060454e-05, 'sign'),\n",
       " (-7.117905727630083e-05, 'forward'),\n",
       " (2.1814858662937457e-05, 'hope'),\n",
       " (2.5079871801838736e-05, 'together'),\n",
       " (-0.00010062367095991956, 'doesnt'),\n",
       " (-8.601551053093745e-05, 'new'),\n",
       " (-0.00014151950881664696, 'husband'),\n",
       " (-0.0001036922790098466, 'water'),\n",
       " (-0.00028741192679553377, 'dishes'),\n",
       " (-0.0006172590474919906, 'awesome'),\n",
       " (-1.3140729779663647e-05, 'close'),\n",
       " (-5.073592740355691e-05, 'totally'),\n",
       " (-4.063862112734396e-05, 'making'),\n",
       " (-7.838188232854463e-06, 'ice'),\n",
       " (-2.1298486305075106e-05, 'onions'),\n",
       " (-7.197347079981474e-05, 'far'),\n",
       " (-0.0005462742801741703, 'favorite'),\n",
       " (-2.1229411806256816e-05, 'ready'),\n",
       " (3.0496828263843606e-05, 'ate'),\n",
       " (-3.539690625971816e-05, 'potato'),\n",
       " (-0.0005578443432021843, 'delicious'),\n",
       " (-0.00015003763441909712, 'no'),\n",
       " (-0.00013726642003785458, 'those'),\n",
       " (-5.321950595992979e-05, 'spot'),\n",
       " (-3.121467102985422e-05, 'reservation'),\n",
       " (-9.487162333709869e-06, 'visited'),\n",
       " (-4.678966703217746e-05, 'son'),\n",
       " (4.256280911319672e-05, 'medium'),\n",
       " (-0.00034840148407788674, 'hot'),\n",
       " (-2.558425449483607e-05, 'grab'),\n",
       " (-4.622106229595175e-05, 'including'),\n",
       " (-5.143575113899997e-05, 'taking'),\n",
       " (-7.361765614016474e-05, 'liked'),\n",
       " (-9.286933057693438e-05, 'nail'),\n",
       " (-0.0001548921186592627, 'house'),\n",
       " (3.57633197941001e-05, 'face'),\n",
       " (-0.0001470444738273154, 'buffet'),\n",
       " (-0.0009021207008208607, 'you'),\n",
       " (-5.2900327593993204e-05, 'dishes'),\n",
       " (-4.24481162656025e-05, 'received'),\n",
       " (-2.7913622506421358e-05, 'matter'),\n",
       " (-3.3980027824051206e-05, 'crowded'),\n",
       " (-5.639153523734081e-07, 'choice'),\n",
       " (-4.845383513042912e-05, 'wish'),\n",
       " (3.534454936167874e-05, 'eat'),\n",
       " (-6.129971996930058e-05, 'cannot'),\n",
       " (-4.7910933452636984e-05, 'finally'),\n",
       " (-8.178853561655763e-05, 'lady'),\n",
       " (-0.00015948990536291137, 'glad'),\n",
       " (-3.7614185893261893e-05, 'desserts'),\n",
       " (-1.0234367803209842e-06, 'mention'),\n",
       " (8.27151725346905e-06, 'fair'),\n",
       " (-8.797976932361454e-06, 'anything'),\n",
       " (-0.00010970104508284436, 'dirty'),\n",
       " (-0.0023275093146896374, 'was'),\n",
       " (-7.428627570779759e-05, 'within'),\n",
       " (2.0635695780484248e-05, 'working'),\n",
       " (6.127054735018732e-05, 'matter'),\n",
       " (1.9982249924286927e-05, 'middle'),\n",
       " (-0.00023120755989150695, '3'),\n",
       " (-1.9785439626637504e-05, 'building'),\n",
       " (2.9176109184705663e-05, 'variety'),\n",
       " (-0.00017705679017835556, 'go'),\n",
       " (3.503467435628352e-05, 'havent'),\n",
       " (-4.182275124341476e-06, 'rooms'),\n",
       " (-0.0001617822387899878, 'knowledgeable'),\n",
       " (-0.00034734609968868103, 'from'),\n",
       " (3.959416965005979e-05, 'hand'),\n",
       " (-1.9281651227292016e-05, 'offered'),\n",
       " (-2.8572536151461102e-05, 'option'),\n",
       " (-0.00022312113054621485, 'am'),\n",
       " (-6.26294902100913e-05, 'lunch'),\n",
       " (-4.694033373652914e-05, 'pricey'),\n",
       " (5.8675948667790486e-06, 'center'),\n",
       " (2.5984265739373513e-05, 'certainly'),\n",
       " (-0.00020195900106779628, 'waiting'),\n",
       " (3.7082347132170036e-05, 'upon'),\n",
       " (-0.0004157896121677433, 'on'),\n",
       " (-4.88747469068619e-05, 'vibe'),\n",
       " (2.3887167090402926e-05, 'dining'),\n",
       " (-3.887560835433244e-05, 'type'),\n",
       " (2.5674687314462314e-05, 'basically'),\n",
       " (-0.00012737221760291241, 'make'),\n",
       " (-6.139421843014916e-05, 'lol'),\n",
       " (-0.00014205488850094357, 'than'),\n",
       " (1.0162803692580181e-05, 'theyre'),\n",
       " (-2.8363339230471566e-05, 'brought'),\n",
       " (-4.996301554112802e-05, 'excited'),\n",
       " (-6.120779182820087e-05, 'team'),\n",
       " (-0.00018027889975355524, 'star'),\n",
       " (-5.349663743736861e-05, 'noticed'),\n",
       " (4.225405540122281e-05, 'set'),\n",
       " (-2.519614486458255e-05, 'mom'),\n",
       " (-1.6629198281511726e-05, 'behind'),\n",
       " (-2.7226918966676017e-05, 'saw'),\n",
       " (-0.0002663789744841126, 'were'),\n",
       " (-0.00024169344260815127, 'years'),\n",
       " (-0.0001044433978721788, 'put'),\n",
       " (-0.0001766891595726917, 'by'),\n",
       " (-9.229460925331e-05, 'hours'),\n",
       " (-0.00039565886307721236, 'every'),\n",
       " (-7.640746818372054e-05, 'might'),\n",
       " (2.5567422486010905e-05, 'mean'),\n",
       " (-0.00011834833299774808, 'being'),\n",
       " (-0.00013087262879380758, 'better'),\n",
       " (-2.109930564059707e-05, 'evening'),\n",
       " (-0.0004898874721575484, 'or'),\n",
       " (-8.354077262073058e-05, 'id'),\n",
       " (4.041704773503983e-05, '4'),\n",
       " (-0.00012879582345160705, 'called'),\n",
       " (-3.4568219787620136e-05, 'seen'),\n",
       " (3.2415691873884594e-05, 'joint'),\n",
       " (-8.772190593169242e-05, 'card'),\n",
       " (1.3214313419761226e-05, 'bread'),\n",
       " (-1.8795064407288312e-06, 'spent'),\n",
       " (1.4538883353594836e-06, 'girls'),\n",
       " (-2.7560678662764943e-05, 'choices'),\n",
       " (-1.2172390689038051e-05, 'totally'),\n",
       " (-7.819512649815465e-05, 'phoenix'),\n",
       " (-2.3921333184834462e-05, 'cleaning'),\n",
       " (-5.223061483233734e-05, 'used'),\n",
       " (-8.200205000992997e-06, 'seen'),\n",
       " (-3.825284900405007e-05, 'awful'),\n",
       " (-0.00011200876668641645, 'egg'),\n",
       " (-8.273469934132149e-05, 'truly'),\n",
       " (-0.000104905416907049, 'meat'),\n",
       " (-0.0001485345320326662, 'absolutely'),\n",
       " (-1.923294205306435e-05, 'tasty'),\n",
       " (-8.342101411442987e-06, 'huge'),\n",
       " (-0.00016337590401821315, 'prices'),\n",
       " (-0.00017385665349714942, 'yummy'),\n",
       " (-4.318535622572595e-05, 'husband'),\n",
       " (-1.5462463154542925e-05, 'rating'),\n",
       " (4.4735447122737284e-05, 'wall'),\n",
       " (-2.2522662080412683e-05, 'empty'),\n",
       " (-1.9147026035581824e-05, 'crust'),\n",
       " (2.2242159051836515e-05, 'toronto'),\n",
       " (-2.8519859976481888e-05, 'rest'),\n",
       " (-0.00010509937783203215, 'wanted'),\n",
       " (-8.980916827993955e-05, 'understand'),\n",
       " (-3.313509520705592e-05, 'stayed'),\n",
       " (-3.712564790474211e-05, 'under'),\n",
       " (-8.051301426594e-05, 'credit'),\n",
       " (-0.00015351649708441828, 'cute'),\n",
       " (-0.00010663019663533162, 'view'),\n",
       " (-0.00023424745530955295, 'helpful'),\n",
       " (-1.3397519405157048e-05, 'treat'),\n",
       " (4.00741166496435e-05, 'friday'),\n",
       " (3.566802836072803e-05, 'friday'),\n",
       " (-0.00015315049133004475, 'help'),\n",
       " (-0.0006031050502250014, 'ever'),\n",
       " (-0.0001067772116345924, 'taste'),\n",
       " (5.1369103555653855e-06, 'shopping'),\n",
       " (-9.007325116479423e-05, 'again'),\n",
       " (-8.456905008856079e-06, 'pulled'),\n",
       " (2.523897179351612e-05, 'seated'),\n",
       " (-6.758850912599651e-06, 'patio'),\n",
       " (4.003724744491345e-06, 'window'),\n",
       " (8.60756728051791e-06, '12'),\n",
       " (-0.0004880349294150829, 'definitely'),\n",
       " (-0.00023905892008088355, 'highly'),\n",
       " (-5.406611793123316e-05, 'review'),\n",
       " (-8.393918178490852e-05, 'process'),\n",
       " (-0.00021533045897428004, 'pizza'),\n",
       " (-8.852554507317371e-06, 'considering'),\n",
       " (-2.1465730502020228e-05, 'through'),\n",
       " (-4.993079642733328e-05, 'summer'),\n",
       " (-9.766845212232317e-05, 'worth'),\n",
       " (-9.942221378746071e-05, 'perfectly'),\n",
       " (3.8686099277012353e-05, 'saturday'),\n",
       " (-0.00013013252303061896, 'thing'),\n",
       " (-0.001434636766070651, 'are'),\n",
       " (-0.0004995069232358426, 'asked'),\n",
       " (-6.680741033260066e-05, 'expected'),\n",
       " (1.4895014392230015e-05, 'brunch'),\n",
       " (-9.757663766422206e-05, 'moved'),\n",
       " (-3.0745469382256144e-05, 'price'),\n",
       " (-0.0003241840369942582, 'quick'),\n",
       " (-7.951659714852211e-07, 'mine'),\n",
       " (-0.0004096811221736658, 'them'),\n",
       " (-0.0004999853893388291, 'his'),\n",
       " (-4.651376521995891e-05, 'taco'),\n",
       " (5.117119581888631e-05, 'seats'),\n",
       " (1.874674428053991e-05, 'live'),\n",
       " (3.6817129726655603e-06, 'expect'),\n",
       " (-0.0003914805625941254, 'amazing'),\n",
       " (-3.559457702474817e-05, 'arent'),\n",
       " (1.6832998506899224e-05, 'beers'),\n",
       " (-3.9571530573579894e-05, 'weve'),\n",
       " (-2.0017549144507043e-05, 'looks'),\n",
       " (-0.0007951148916068621, 'here'),\n",
       " (-9.053753502330503e-05, 'trying'),\n",
       " (2.2239856397508235e-05, 'school'),\n",
       " (-4.1327810401760366e-05, 'walk'),\n",
       " (-6.658879976811471e-05, 'without'),\n",
       " (-2.03613702430433e-05, 'seemed'),\n",
       " (-6.326446909818255e-06, 'come'),\n",
       " (-5.290343406751585e-05, 'says'),\n",
       " (-0.0004610330605586857, 'when'),\n",
       " (2.8865844799697905e-05, 'plates'),\n",
       " (2.4572361526365263e-05, 'excited'),\n",
       " (-0.00015456520800831742, 'cold'),\n",
       " (4.738194911146123e-05, 'believe'),\n",
       " (5.274554287824153e-05, 'rooms'),\n",
       " (1.3705912783031836e-05, 'simply'),\n",
       " (3.305224963986886e-05, 'veggies'),\n",
       " (1.9639847117420488e-05, 'end'),\n",
       " (5.327271117736652e-05, 'basically'),\n",
       " (-3.4802928334331834e-05, 'without'),\n",
       " (2.8441179721440185e-06, 'matter'),\n",
       " (1.958847316953612e-05, 'moving'),\n",
       " (-7.39071661295422e-05, 'came'),\n",
       " (-0.00010413652377465063, 'beyond'),\n",
       " (-9.33830650902954e-05, 'satisfied'),\n",
       " (-0.00027525024423781833, 'decent'),\n",
       " (1.2749431303314104e-05, 'mean'),\n",
       " (-3.5529967275069305e-05, 'shrimp'),\n",
       " (1.7878077274329114e-05, 'regular'),\n",
       " (-0.002187290370383187, 'very'),\n",
       " (-7.872163481076138e-06, 'light'),\n",
       " (-0.00012649562669509026, 'potato'),\n",
       " (-0.00017249560137831178, 'shop'),\n",
       " (-0.00011431888688249016, 'gave'),\n",
       " (-4.474488023722858e-06, 'fix'),\n",
       " (-0.0003873664333211178, 'overall'),\n",
       " (-1.5800977541632932e-06, 'joint'),\n",
       " (-0.0002257320291512512, 'town'),\n",
       " (1.557044637161395e-05, 'light'),\n",
       " (5.9189809114943304e-06, 'youre'),\n",
       " (-8.20857844542911e-05, 'reviews'),\n",
       " (-3.3181180341786826e-05, 'move'),\n",
       " (-2.7181700866753044e-05, 'play'),\n",
       " (-4.965327046328066e-05, 'know'),\n",
       " (-1.2652326760869109e-05, 'tasted'),\n",
       " (8.686968670825428e-06, 'closed'),\n",
       " (3.6858177587166074e-05, '3'),\n",
       " (-0.0005161065047772952, 'can'),\n",
       " (-9.459036367664509e-05, 'even'),\n",
       " (-2.202498906104215e-05, 'greeted'),\n",
       " (-0.00029200788362230857, 'should'),\n",
       " (-0.0005167581478594758, 'then'),\n",
       " (-5.406403327963289e-05, 'paying'),\n",
       " (-8.545497896826274e-06, 'located'),\n",
       " (-5.2751277292276106e-05, 'lovely'),\n",
       " (-2.3791252672288477e-05, 'eat'),\n",
       " (-3.130130914688983e-05, 'salon'),\n",
       " (-1.784995088895938e-05, 'getting'),\n",
       " (3.6746263182816296e-05, 'arent'),\n",
       " (-1.2646179060882414e-05, 'seats'),\n",
       " (-0.00025803154601379113, 'wonderful'),\n",
       " (-5.313808428191987e-05, 'yelp'),\n",
       " (-0.0013002423498874802, 'i'),\n",
       " (-9.25534020643421e-06, 'low'),\n",
       " (-1.1884810064345799e-05, 'lost'),\n",
       " (-6.458945430148216e-09, 'bottle'),\n",
       " (-0.00016145659234784073, 'happy'),\n",
       " (-0.0002359246038234372, 'price'),\n",
       " (-7.799096177250176e-06, 'sunday'),\n",
       " (1.0710047285026681e-05, '15'),\n",
       " (-0.0013193198329198724, 'he'),\n",
       " (-9.749347345731397e-05, 'spicy'),\n",
       " (-2.0097326689590128e-05, 'gone'),\n",
       " (3.3903909322049926e-05, 'dressing'),\n",
       " (-0.0018696472894524953, 'it'),\n",
       " (2.828542409889003e-05, 'mexican'),\n",
       " (-2.4296517344908814e-05, 'whole'),\n",
       " (-3.0135086824667338e-05, 'deal'),\n",
       " (4.737528545342793e-06, 'kids'),\n",
       " (-0.000229744161443795, 'by'),\n",
       " (7.684347004437977e-06, 'visited'),\n",
       " (-1.9658730324354466e-06, 'let'),\n",
       " (1.4061955715945294e-05, 'store'),\n",
       " (-3.160424799064548e-05, 'noticed'),\n",
       " (-0.00025496305321704555, 'care'),\n",
       " (1.9419808038835507e-05, 'looks'),\n",
       " (-1.0898233379977036e-05, 'deal'),\n",
       " (3.78578427966183e-05, 'head'),\n",
       " (-0.00228145490039159, 'of'),\n",
       " (3.933350891868054e-05, 'opinion'),\n",
       " (-4.9394980992548284e-05, 'yourself'),\n",
       " (-9.137188547655206e-05, 'needs'),\n",
       " (-0.00021133878839951054, 'new'),\n",
       " (-2.7473962376761316e-05, 'myself'),\n",
       " (-0.00020249598591257426, 'their'),\n",
       " (4.5991343507083185e-05, 'life'),\n",
       " (1.5311006382952058e-06, 'glass'),\n",
       " (-5.933481570031179e-05, 'else'),\n",
       " (-9.389306975414327e-05, 'actually'),\n",
       " (-0.0001010999742973402, 'empty'),\n",
       " (4.438828519161617e-05, 'thin'),\n",
       " (-2.200606369880996e-05, 'chance'),\n",
       " (-5.299449551504772e-05, 'tell'),\n",
       " (-0.0008318063518435409, 'no'),\n",
       " (-0.00011602062552433631, 'let'),\n",
       " (-2.34839208720216e-05, 'crowd'),\n",
       " (-5.2186427680193037e-05, 'weve'),\n",
       " (-2.057614744835966e-05, 'potatoes'),\n",
       " (-0.00015727267499099948, 'every'),\n",
       " (-2.4986434999685504e-05, 'color'),\n",
       " (2.7075861140492838e-05, 'tuna'),\n",
       " (1.8090669993299892e-06, 'opened'),\n",
       " (-3.905470642887076e-05, 'option'),\n",
       " (-1.3728156944645866e-05, 'seeing'),\n",
       " (-3.0588133537000914e-05, 'twice'),\n",
       " (-0.000193523746601542, 'two'),\n",
       " (-1.3359321327284122e-06, 'hear'),\n",
       " (-6.491961758042938e-05, 'lunch'),\n",
       " (1.532069009272516e-05, 'dirty'),\n",
       " (4.2373745291930204e-05, '100'),\n",
       " (-2.1755337622965295e-05, 'sometimes'),\n",
       " (-4.076457095764823e-06, 'stores'),\n",
       " (-3.11573787882148e-05, 'level'),\n",
       " (1.600248348212097e-07, 'counter'),\n",
       " (-2.8114306126140315e-05, 'bite'),\n",
       " (-1.232648021916332e-05, 'dishes'),\n",
       " (-0.00018434927636653398, 'impressed'),\n",
       " (-1.478840484648306e-05, 'read'),\n",
       " (1.0243617337999625e-05, 'book'),\n",
       " (-4.902689598626709e-05, 'use'),\n",
       " (-3.777571844830619e-05, 'considering'),\n",
       " (-3.208040971994881e-05, 'want'),\n",
       " (4.6243807823583374e-05, 'deal'),\n",
       " (-5.92087843123363e-05, 'honest'),\n",
       " (-0.00026762571940582334, 'sushi'),\n",
       " (-0.00017998533479291357, 'right'),\n",
       " (-6.851690605773754e-05, 'truly'),\n",
       " (-2.752724627089957e-05, 'see'),\n",
       " (-6.68608664297997e-05, 'moved'),\n",
       " (-0.000318269808286444, 'spicy'),\n",
       " (-0.0006992740948398522, 'try'),\n",
       " (1.6384796686096445e-05, 'park'),\n",
       " (-0.0002145965735962514, 'professional'),\n",
       " (1.6049636852839936e-05, 'says'),\n",
       " (-0.000204263046663844, 'flavors'),\n",
       " (-1.1350741214228888e-05, 'toppings'),\n",
       " (-0.00038160755481212957, 'work'),\n",
       " (5.092214692870031e-05, 'prepared'),\n",
       " (4.129253998382974e-05, 'asian'),\n",
       " (2.324758917051831e-05, 'tastes'),\n",
       " (-4.4478613451638435e-05, 'attention'),\n",
       " (-5.029162847369181e-05, 'per'),\n",
       " (-0.0002239970785277101, 'seemed'),\n",
       " (2.0703757450577366e-05, 'myself'),\n",
       " (1.900122667367583e-05, 'walking'),\n",
       " (-0.00016938794674288703, 'worst'),\n",
       " (-0.00019975977626571835, 'vegas'),\n",
       " (-4.790414717107571e-05, 'watch'),\n",
       " (-0.00018514615964428278, '4'),\n",
       " (-5.853042985991806e-05, 'water'),\n",
       " (-2.0835990121124384e-05, 'de'),\n",
       " (-3.2179960585272964e-05, 'saw'),\n",
       " (-0.000306166522048604, 'worth'),\n",
       " (-0.00011497128875095607, 'dog'),\n",
       " (-0.00015605882170774952, 'waited'),\n",
       " (-9.2790721376143e-07, 'thinking'),\n",
       " (2.013892191092751e-05, 'considering'),\n",
       " (-2.4672916181793948e-05, 'extra'),\n",
       " (-6.596021565077539e-05, 'fan'),\n",
       " (-0.00048289860028590133, 'can'),\n",
       " (3.0386708264476097e-05, 'certainly'),\n",
       " (1.7986015882403926e-05, 'boyfriend'),\n",
       " (1.629318265284043e-05, 'man'),\n",
       " (-0.00010647753839779806, 'awful'),\n",
       " (-7.944083377776895e-06, 'based'),\n",
       " (-2.0950845593362388e-05, 'burgers'),\n",
       " (-5.7506037207268165e-05, 'met'),\n",
       " (-0.000432435861164023, 'staff'),\n",
       " (-0.0001174388846820019, 'hair'),\n",
       " (-8.299523379867732e-05, 'buffet'),\n",
       " (-0.00025380206618010243, 'going'),\n",
       " (-6.957425475778382e-05, 'worked'),\n",
       " (-3.830879849328161e-05, 'friends'),\n",
       " (-2.112766051964808e-05, 'egg'),\n",
       " (-6.235577517359794e-05, 'size'),\n",
       " (2.8565738054147727e-05, 'available'),\n",
       " (-2.330043045344975e-05, 'bottle'),\n",
       " (-2.26109233738624e-05, 'those'),\n",
       " (-0.00021409678027706019, 'portions'),\n",
       " (-6.373045068494538e-06, 'number'),\n",
       " (-0.0003575789936774718, 'all'),\n",
       " (-4.757140283478679e-05, '6'),\n",
       " (-2.2559164559653893e-05, 'wedding'),\n",
       " (-2.899531411683186e-06, 'fruit'),\n",
       " (-4.454618405150317e-05, 'bbq'),\n",
       " (3.189541692504125e-08, 'plan'),\n",
       " (3.235718123674477e-05, 'watch'),\n",
       " (-0.00035089936581138845, 'work'),\n",
       " (-0.00022697109237433753, 'family'),\n",
       " (-0.001477994469933041, 'he'),\n",
       " (-3.282951147231988e-05, 'sausage'),\n",
       " (-2.2245885105589083e-05, 'sit'),\n",
       " (-0.0001469032551614223, 'guys'),\n",
       " (-5.00633662989047e-05, 'talking'),\n",
       " (-2.980791648246683e-05, 'mixed'),\n",
       " (-0.0002299491436813174, 'strip'),\n",
       " (3.623817187699242e-05, 'coffee'),\n",
       " (5.26758268336833e-05, 'pleasant'),\n",
       " (-3.2720154487222086e-05, 'bring'),\n",
       " (-3.6060407004056194e-05, 'put'),\n",
       " (-2.3123671938294246e-05, 'wall'),\n",
       " (-4.8930082409494573e-05, 'she'),\n",
       " (5.086347871165642e-07, 'days'),\n",
       " (-0.000376612234354474, 'ok'),\n",
       " (-7.376298761548972e-05, 'sandwich'),\n",
       " (-9.680581919712541e-05, 'lamb'),\n",
       " (-7.330167950864036e-05, 'fixed'),\n",
       " (4.030388012497081e-05, 'heard'),\n",
       " (-0.00017175988384582452, 'easy'),\n",
       " (-6.212929775726512e-05, 'terrible'),\n",
       " (3.172005121146652e-05, 'seat'),\n",
       " (6.571532880549535e-05, 'year'),\n",
       " (-0.00012560876657639148, 'come'),\n",
       " (-6.64630305112288e-05, 'customers'),\n",
       " (-0.00010082183906258771, 'out'),\n",
       " (-3.9845871922719635e-05, 'seats'),\n",
       " (3.84987449045883e-05, 'should'),\n",
       " (-8.209024912562068e-05, 'want'),\n",
       " (-0.00021374941821689845, 'give'),\n",
       " (2.704336289258147e-05, 'each'),\n",
       " (7.484006687878751e-07, 'plenty'),\n",
       " (-0.00027562928721560774, 'made'),\n",
       " (-6.071888568236699e-05, 'due'),\n",
       " (-8.815544838433509e-05, 'sausage'),\n",
       " (7.3682480402960675e-06, 'servers'),\n",
       " (-0.0002779347821331478, 'favorite'),\n",
       " (-6.408268780170467e-06, 'wall'),\n",
       " (-3.138019622401893e-05, 'hard'),\n",
       " (-8.364758615778773e-06, 'order'),\n",
       " (4.672556904202854e-05, 'toast'),\n",
       " (3.265950690752766e-05, 'room'),\n",
       " (-3.311230434229791e-05, 'onion'),\n",
       " (-9.446148659039572e-05, 'beyond'),\n",
       " (-0.0004906872520859362, 'vegas'),\n",
       " (-0.0002212790897369955, 'atmosphere'),\n",
       " (-0.00012098573767280826, 'glad'),\n",
       " (3.0060035556207738e-05, 'crispy'),\n",
       " (-8.586200554392418e-06, 'before'),\n",
       " (-8.410701385069082e-05, 'waitress'),\n",
       " (-0.00011026074701639867, 'overpriced'),\n",
       " (-0.00010254936502531584, 'completely'),\n",
       " (9.257388849957343e-06, 'salt'),\n",
       " (-2.851089417189188e-05, 'patient'),\n",
       " (-5.029694024451814e-05, 'unfortunately'),\n",
       " (-2.4033287371615807e-05, 'write'),\n",
       " (-0.00011802952398279426, 'dog'),\n",
       " (-0.0002786196392718394, 'rude'),\n",
       " (-2.8249149884765752e-05, 'club'),\n",
       " (-6.836323215777026e-05, 'onions'),\n",
       " (-0.0001087253804963161, 'months'),\n",
       " (-0.0002898518658499084, 'wonderful'),\n",
       " (-3.72353725960728e-05, 'decor'),\n",
       " (1.1396803909472381e-05, 'center'),\n",
       " (1.4050198575524286e-06, 'burgers'),\n",
       " (-8.874975314513784e-05, 'appointment'),\n",
       " (2.7890156417027773e-05, 'unfortunately'),\n",
       " (4.8701063963399525e-06, 'keep'),\n",
       " (-0.00018003086056218973, 'shop'),\n",
       " (-0.0024171587315660117, 'i'),\n",
       " (7.9768625820811e-08, 'special'),\n",
       " (3.4107007973149393e-05, 'ate'),\n",
       " (-3.848157712576733e-05, 'exactly'),\n",
       " (-0.00037829856052139455, 'excellent'),\n",
       " (-3.139213010085629e-06, '20'),\n",
       " (-0.00017388006525889687, 'instead'),\n",
       " (-0.00010670112544325825, 'working'),\n",
       " (-0.00034275538134253755, 'which'),\n",
       " (4.0971010196663715e-06, 'plus'),\n",
       " (1.673355745298059e-05, 'glass'),\n",
       " (-0.0003934654133621049, 'ive'),\n",
       " (-2.398925558030234e-05, 'morning'),\n",
       " (-0.00017043650406139228, 'tell'),\n",
       " (-4.7900971345792075e-05, '1'),\n",
       " (-0.00010770731856976103, 'hour'),\n",
       " (-0.00013996350187590536, 'items'),\n",
       " (1.6444953865020885e-05, 'ingredients'),\n",
       " (-8.88809682443463e-05, 'main'),\n",
       " (-4.4358046057955936e-05, 'such'),\n",
       " (-0.0002459951553086039, 'work'),\n",
       " (1.1003363441617665e-05, 'tasting'),\n",
       " (-0.00012328418121552282, 'sure'),\n",
       " (3.115941429712409e-05, 'salty'),\n",
       " (1.7175150253936108e-05, 'warm'),\n",
       " (-1.1225593762559724e-05, 'serve'),\n",
       " (-4.609258951596379e-05, 'real'),\n",
       " (-7.82233773606573e-05, 'wont'),\n",
       " (-0.00012962279524997278, 'waiting'),\n",
       " (-7.130148175288939e-05, 'etc'),\n",
       " (-2.2791919078892398e-05, 'whole'),\n",
       " (-8.410922008217733e-05, 'attitude'),\n",
       " (6.030781670633538e-05, 'home'),\n",
       " (4.268667759163634e-05, 'due'),\n",
       " (-2.3252808878091054e-05, 'until'),\n",
       " (2.7609600837878528e-05, 'expensive'),\n",
       " (-2.21898486503215e-05, 'hope'),\n",
       " (-1.4403952810437717e-05, 'wont'),\n",
       " (-6.495219090711315e-05, 'busy'),\n",
       " (4.1017274637653945e-06, 'couple'),\n",
       " (-5.042001422953565e-05, 'business'),\n",
       " (2.558216254019914e-05, 'included'),\n",
       " (-4.061659062021001e-05, 'turned'),\n",
       " (-4.1905139560410116e-05, 'card'),\n",
       " (-0.00015802467897160593, 'flavorful'),\n",
       " (-0.00018856927242776674, 'absolutely'),\n",
       " (-0.00011604008075919, 'look'),\n",
       " (-2.2752995728529186e-05, 'talking'),\n",
       " (8.216218232520695e-06, 'basically'),\n",
       " (-3.822300260640206e-05, 'friend'),\n",
       " (-0.00012538247048205983, 'eat'),\n",
       " (3.278727340145929e-05, 'save'),\n",
       " (-0.0003692330140661808, 'best'),\n",
       " (3.1571087784114626e-05, 'mixed'),\n",
       " (-9.525296368819106e-05, 'stuff'),\n",
       " (-1.557380932901305e-05, 'saying'),\n",
       " (4.354200284276014e-06, 'dining'),\n",
       " (-0.00012502408664939415, 'butter'),\n",
       " (3.5992668870532736e-06, 'seated'),\n",
       " (-1.2777387021156174e-05, 'totally'),\n",
       " (3.0161988830923405e-05, 'dressing'),\n",
       " (2.1792680397638375e-05, 'twice'),\n",
       " (4.413652582069863e-05, 'burrito'),\n",
       " (-5.539589666186099e-05, 'pick'),\n",
       " (2.7467039189573448e-05, 'atmosphere'),\n",
       " (2.272572741541585e-05, 'filled'),\n",
       " (-8.832120158110216e-05, 'trip'),\n",
       " (-6.279956728534735e-05, 'italian'),\n",
       " (-0.00012882079819689484, 'back'),\n",
       " (3.700022678913037e-05, 'per'),\n",
       " (-8.313893159575222e-05, 'coming'),\n",
       " (1.1884144373219797e-05, 'sent'),\n",
       " (-4.0018345806098744e-05, 'explained'),\n",
       " (3.231974036808742e-05, 'many'),\n",
       " (-0.0008049262128448152, 'best'),\n",
       " (-2.5233545838652754e-05, 'spend'),\n",
       " (3.184847058669571e-05, 'change'),\n",
       " (-0.00012971571487561012, 'call'),\n",
       " (-7.845395576622353e-05, 'mall'),\n",
       " (-4.770359408354348e-05, 'class'),\n",
       " (4.724743079713098e-05, 'summer'),\n",
       " (3.110295763039618e-07, 'head'),\n",
       " (-1.7370523243403742e-05, 'say'),\n",
       " (-3.376521550939527e-05, 'etc'),\n",
       " (-0.00014794270485975463, 'poor'),\n",
       " (-8.017894612326662e-05, 'last'),\n",
       " (-5.135934391570056e-06, 'hours'),\n",
       " (9.3935579585332e-06, 'minute'),\n",
       " (-8.686810846989207e-06, 'wine'),\n",
       " (2.015220035129532e-05, 'whatever'),\n",
       " (-0.00016183232607362979, 'find'),\n",
       " (-1.2209160332883314e-06, 'crowded'),\n",
       " (8.661965968466867e-06, 'fact'),\n",
       " (-1.090732339069093e-05, 'ones'),\n",
       " (2.755683386359355e-05, '7'),\n",
       " (-0.00012581205721385566, 'curry'),\n",
       " (-0.0013800021213956305, 'food'),\n",
       " (-0.0002060092330969667, 'first'),\n",
       " (9.230094969323683e-06, 'mind'),\n",
       " (1.338031147655181e-06, 'maybe'),\n",
       " (-8.071964000083058e-05, 'getting'),\n",
       " (7.379300212242149e-06, 'cash'),\n",
       " (-0.00011995677946356826, 'choice'),\n",
       " (-8.410650960144578e-05, 'dirty'),\n",
       " (-0.00035530009951166824, 'your'),\n",
       " (-3.9642173361383514e-05, 'awesome'),\n",
       " (-0.0006108819855606745, 'good'),\n",
       " (2.7243353383966197e-05, 'afternoon'),\n",
       " (-2.398940163957005e-05, 'interesting'),\n",
       " (-0.00018440841478712647, 'help'),\n",
       " (-0.00013688076499882043, 'tender'),\n",
       " (-0.0002736504938888667, 'up'),\n",
       " (6.538177794093491e-06, 'issue'),\n",
       " (3.864367082890928e-06, 'hope'),\n",
       " (3.291022613341224e-05, 'stores'),\n",
       " (-7.9099784420398e-06, 'close'),\n",
       " (-0.0013996203861709505, 'love'),\n",
       " (-3.685329602237276e-05, 'birthday'),\n",
       " (-0.00032992361710188693, 'burger'),\n",
       " (2.87058991436067e-05, 'rest'),\n",
       " (-3.0263919801621904e-05, '7'),\n",
       " (-3.041393676668104e-05, 'fair'),\n",
       " (-4.162732623603725e-05, 'total'),\n",
       " (-0.0001739647701765783, 'fresh'),\n",
       " (-0.0003581551289819201, 'car'),\n",
       " (-4.823975914271543e-05, 'through'),\n",
       " (-0.00048604559097875015, 'only'),\n",
       " (-0.00010807226120226432, 'ramen'),\n",
       " (4.2802621656734405e-05, 'based'),\n",
       " (-2.077821762772275e-05, 'true'),\n",
       " (-0.0003607957156639993, 'nice'),\n",
       " (-0.00010612303397163506, 'paying'),\n",
       " (6.034136063753139e-05, 'several'),\n",
       " (-0.00022613871794664736, 'lots'),\n",
       " (4.645405787333403e-06, 'rating'),\n",
       " (6.6472729835103685e-06, 'burrito'),\n",
       " (-2.5160433346743997e-05, 'believe'),\n",
       " (-3.355717950066076e-05, 'authentic'),\n",
       " (-0.00031719358427232823, 'fried'),\n",
       " (1.4547423420154578e-05, 'available'),\n",
       " (-0.0005251064878752001, 'excellent'),\n",
       " (-0.0009769085200849162, 'delicious'),\n",
       " (-3.0316316237527713e-05, 'set'),\n",
       " (-0.00020588564898392568, 'town'),\n",
       " (-6.118373667898802e-05, 'massage'),\n",
       " (-1.8066256351338987e-05, 'many'),\n",
       " (-5.348306191887625e-05, 'management'),\n",
       " (-0.0002231657813545716, 'fish'),\n",
       " (-3.5117028264081325e-05, 'eggs'),\n",
       " (-0.0013138671067735217, 'really'),\n",
       " (-6.144364104932322e-06, 'afternoon'),\n",
       " (5.8368010683838194e-05, 'giving'),\n",
       " (-0.00019700804993581415, 'free'),\n",
       " (-0.0008787659052357651, 'amazing'),\n",
       " (-9.596027892273373e-05, 'coming'),\n",
       " (-0.000148229624603395, 'bbq'),\n",
       " (-0.00024193332197015939, 'dr'),\n",
       " (-0.0002580895079002084, 'just'),\n",
       " (-3.520841535666259e-05, 'beyond'),\n",
       " (-7.002474488595318e-05, 'while'),\n",
       " (-0.0010098706410274954, 'very'),\n",
       " (-0.0002780390215719332, 'professional'),\n",
       " ...}"
      ]
     },
     "execution_count": 18,
     "metadata": {},
     "output_type": "execute_result"
    }
   ],
   "source": [
    "final_words_set"
   ]
  },
  {
   "cell_type": "markdown",
   "metadata": {},
   "source": [
    "Get features"
   ]
  },
  {
   "cell_type": "code",
   "execution_count": 81,
   "metadata": {},
   "outputs": [
    {
     "name": "stdout",
     "output_type": "stream",
     "text": [
      "100000 100000\n"
     ]
    }
   ],
   "source": [
    "X = []\n",
    "y = []\n",
    "for d in training:\n",
    "    y.append(d['stars'])\n",
    "    feat = [x[1] in d['text'] for x in final_words_set]\n",
    "#     feat.extend(userCatCounts[d['user_id']])\n",
    "    feat.append(d['cool'])\n",
    "    feat.append(d['useful'])\n",
    "    feat.append(d['funny'])\n",
    "    feat.append(d['user_id'] in return2)\n",
    "    feat.append(d['business_id'] in return1)\n",
    "    X.append(feat)\n",
    "print(len(X), len(y))"
   ]
  },
  {
   "cell_type": "code",
   "execution_count": 82,
   "metadata": {},
   "outputs": [
    {
     "name": "stdout",
     "output_type": "stream",
     "text": [
      "50000 50000\n"
     ]
    }
   ],
   "source": [
    "X_valid = []\n",
    "y_valid = []\n",
    "for d in validation:\n",
    "    y_valid.append(d['stars'])\n",
    "    feat = [x[1] in d['text'] for x in final_words_set]\n",
    "#     if d['user_id'] not in userCatCounts:\n",
    "#         feat.extend([0, 0, 0, 0, 0, 0])\n",
    "#     else:\n",
    "#         feat.extend(userCatCounts[d['user_id']])\n",
    "    feat.append(d['cool'])\n",
    "    feat.append(d['useful'])\n",
    "    feat.append(d['funny'])\n",
    "    feat.append(d['user_id'] in return2)\n",
    "    feat.append(d['business_id'] in return1)\n",
    "    X_valid.append(feat)\n",
    "print(len(X_valid), len(y_valid))"
   ]
  },
  {
   "cell_type": "code",
   "execution_count": 83,
   "metadata": {},
   "outputs": [
    {
     "name": "stdout",
     "output_type": "stream",
     "text": [
      "25000 25000\n"
     ]
    }
   ],
   "source": [
    "X_test = []\n",
    "y_test = []\n",
    "for d in testing:\n",
    "    y_test.append(d['stars'])\n",
    "    feat = [x[1] in d['text'] for x in final_words_set]\n",
    "#     if d['user_id'] not in userCatCounts:\n",
    "#         feat.extend([0, 0, 0, 0, 0, 0])\n",
    "#     else:\n",
    "#         feat.extend(userCatCounts[d['user_id']])\n",
    "    feat.append(d['cool'])\n",
    "    feat.append(d['useful'])\n",
    "    feat.append(d['funny'])\n",
    "    feat.append(d['user_id'] in return2)\n",
    "    feat.append(d['business_id'] in return1)\n",
    "    X_test.append(feat)\n",
    "print(len(X_test), len(y_test))"
   ]
  },
  {
   "cell_type": "markdown",
   "metadata": {},
   "source": [
    "Run model on a classifier"
   ]
  },
  {
   "cell_type": "code",
   "execution_count": 25,
   "metadata": {
    "scrolled": true
   },
   "outputs": [
    {
     "data": {
      "text/plain": [
       "LinearSVC(C=100, class_weight=None, dual=False, fit_intercept=True,\n",
       "     intercept_scaling=1, loss='squared_hinge', max_iter=1000,\n",
       "     multi_class='ovr', penalty='l2', random_state=None, tol=0.0001,\n",
       "     verbose=0)"
      ]
     },
     "execution_count": 25,
     "metadata": {},
     "output_type": "execute_result"
    }
   ],
   "source": [
    "clf0 = svm.LinearSVC(C=0.01, multi_class='ovr', dual=False)\n",
    "clf0.fit(X_valid, y_valid)\n",
    "clf1 = svm.LinearSVC(C=0.1, multi_class='ovr', dual=False)\n",
    "clf1.fit(X_valid, y_valid)\n",
    "clf2 = svm.LinearSVC(C=1, multi_class='ovr', dual=False)\n",
    "clf2.fit(X_valid, y_valid)\n",
    "clf3 = svm.LinearSVC(C=10, multi_class='ovr', dual=False)\n",
    "clf3.fit(X_valid, y_valid)\n",
    "clf4 = svm.LinearSVC(C=100, multi_class='ovr', dual=False)\n",
    "clf4.fit(X_valid, y_valid)"
   ]
  },
  {
   "cell_type": "code",
   "execution_count": 27,
   "metadata": {},
   "outputs": [
    {
     "name": "stdout",
     "output_type": "stream",
     "text": [
      "0.62398\n",
      "0.62355\n",
      "0.62354\n",
      "0.62348\n",
      "0.62353\n"
     ]
    }
   ],
   "source": [
    "print(clf0.score(X, y))\n",
    "print(clf1.score(X, y))\n",
    "print(clf2.score(X, y))\n",
    "print(clf3.score(X, y))\n",
    "print(clf4.score(X, y))"
   ]
  },
  {
   "cell_type": "code",
   "execution_count": 28,
   "metadata": {},
   "outputs": [
    {
     "name": "stdout",
     "output_type": "stream",
     "text": [
      "0.65176\n",
      "0.65204\n",
      "0.65222\n",
      "0.65212\n",
      "0.65218\n"
     ]
    }
   ],
   "source": [
    "print(clf0.score(X_valid, y_valid))\n",
    "print(clf1.score(X_valid, y_valid))\n",
    "print(clf2.score(X_valid, y_valid))\n",
    "print(clf3.score(X_valid, y_valid))\n",
    "print(clf4.score(X_valid, y_valid))"
   ]
  },
  {
   "cell_type": "code",
   "execution_count": 29,
   "metadata": {},
   "outputs": [
    {
     "name": "stdout",
     "output_type": "stream",
     "text": [
      "0.62064\n",
      "0.61992\n",
      "0.6202\n",
      "0.62024\n",
      "0.62024\n"
     ]
    }
   ],
   "source": [
    "print(clf0.score(X_test, y_test))\n",
    "print(clf1.score(X_test, y_test))\n",
    "print(clf2.score(X_test, y_test))\n",
    "print(clf3.score(X_test, y_test))\n",
    "print(clf4.score(X_test, y_test))"
   ]
  },
  {
   "cell_type": "markdown",
   "metadata": {},
   "source": [
    "train:<br>\n",
    "0.62398\n",
    "0.62355\n",
    "0.62354\n",
    "0.62348\n",
    "0.62353\n",
    "<br>\n",
    "valid<br>\n",
    "0.65176\n",
    "0.65204\n",
    "0.65222\n",
    "0.65212\n",
    "0.65218\n",
    "<br>\n",
    "test<br>\n",
    "0.62064\n",
    "0.61992\n",
    "0.6202\n",
    "0.62024\n",
    "0.62024\n"
   ]
  },
  {
   "cell_type": "markdown",
   "metadata": {},
   "source": [
    "Run Linear regression on features"
   ]
  },
  {
   "cell_type": "code",
   "execution_count": 38,
   "metadata": {},
   "outputs": [
    {
     "ename": "LinAlgError",
     "evalue": "0-dimensional array given. Array must be two-dimensional",
     "output_type": "error",
     "traceback": [
      "\u001b[1;31m---------------------------------------------------------------------------\u001b[0m",
      "\u001b[1;31mLinAlgError\u001b[0m                               Traceback (most recent call last)",
      "\u001b[1;32m<ipython-input-38-413f22b523d5>\u001b[0m in \u001b[0;36m<module>\u001b[1;34m()\u001b[0m\n\u001b[1;32m----> 1\u001b[1;33m \u001b[0mtheta\u001b[0m\u001b[1;33m,\u001b[0m \u001b[0mres\u001b[0m\u001b[1;33m,\u001b[0m \u001b[0mrank\u001b[0m\u001b[1;33m,\u001b[0m \u001b[0ms\u001b[0m \u001b[1;33m=\u001b[0m \u001b[0mnp\u001b[0m\u001b[1;33m.\u001b[0m\u001b[0mlinalg\u001b[0m\u001b[1;33m.\u001b[0m\u001b[0mlstsq\u001b[0m\u001b[1;33m(\u001b[0m\u001b[0mX_train\u001b[0m\u001b[1;33m,\u001b[0m \u001b[0my_train\u001b[0m\u001b[1;33m,\u001b[0m \u001b[0mrcond\u001b[0m\u001b[1;33m=\u001b[0m\u001b[1;32mNone\u001b[0m\u001b[1;33m)\u001b[0m\u001b[1;33m\u001b[0m\u001b[0m\n\u001b[0m",
      "\u001b[1;32mE:\\Anaconda\\lib\\site-packages\\numpy\\linalg\\linalg.py\u001b[0m in \u001b[0;36mlstsq\u001b[1;34m(a, b, rcond)\u001b[0m\n\u001b[0;32m   2122\u001b[0m     \u001b[1;32mif\u001b[0m \u001b[0mis_1d\u001b[0m\u001b[1;33m:\u001b[0m\u001b[1;33m\u001b[0m\u001b[0m\n\u001b[0;32m   2123\u001b[0m         \u001b[0mb\u001b[0m \u001b[1;33m=\u001b[0m \u001b[0mb\u001b[0m\u001b[1;33m[\u001b[0m\u001b[1;33m:\u001b[0m\u001b[1;33m,\u001b[0m \u001b[0mnewaxis\u001b[0m\u001b[1;33m]\u001b[0m\u001b[1;33m\u001b[0m\u001b[0m\n\u001b[1;32m-> 2124\u001b[1;33m     \u001b[0m_assertRank2\u001b[0m\u001b[1;33m(\u001b[0m\u001b[0ma\u001b[0m\u001b[1;33m,\u001b[0m \u001b[0mb\u001b[0m\u001b[1;33m)\u001b[0m\u001b[1;33m\u001b[0m\u001b[0m\n\u001b[0m\u001b[0;32m   2125\u001b[0m     \u001b[0m_assertNoEmpty2d\u001b[0m\u001b[1;33m(\u001b[0m\u001b[0ma\u001b[0m\u001b[1;33m,\u001b[0m \u001b[0mb\u001b[0m\u001b[1;33m)\u001b[0m  \u001b[1;31m# TODO: relax this constraint\u001b[0m\u001b[1;33m\u001b[0m\u001b[0m\n\u001b[0;32m   2126\u001b[0m     \u001b[0mm\u001b[0m\u001b[1;33m,\u001b[0m \u001b[0mn\u001b[0m \u001b[1;33m=\u001b[0m \u001b[0ma\u001b[0m\u001b[1;33m.\u001b[0m\u001b[0mshape\u001b[0m\u001b[1;33m[\u001b[0m\u001b[1;33m-\u001b[0m\u001b[1;36m2\u001b[0m\u001b[1;33m:\u001b[0m\u001b[1;33m]\u001b[0m\u001b[1;33m\u001b[0m\u001b[0m\n",
      "\u001b[1;32mE:\\Anaconda\\lib\\site-packages\\numpy\\linalg\\linalg.py\u001b[0m in \u001b[0;36m_assertRank2\u001b[1;34m(*arrays)\u001b[0m\n\u001b[0;32m    196\u001b[0m         \u001b[1;32mif\u001b[0m \u001b[0ma\u001b[0m\u001b[1;33m.\u001b[0m\u001b[0mndim\u001b[0m \u001b[1;33m!=\u001b[0m \u001b[1;36m2\u001b[0m\u001b[1;33m:\u001b[0m\u001b[1;33m\u001b[0m\u001b[0m\n\u001b[0;32m    197\u001b[0m             raise LinAlgError('%d-dimensional array given. Array must be '\n\u001b[1;32m--> 198\u001b[1;33m                     'two-dimensional' % a.ndim)\n\u001b[0m\u001b[0;32m    199\u001b[0m \u001b[1;33m\u001b[0m\u001b[0m\n\u001b[0;32m    200\u001b[0m \u001b[1;32mdef\u001b[0m \u001b[0m_assertRankAtLeast2\u001b[0m\u001b[1;33m(\u001b[0m\u001b[1;33m*\u001b[0m\u001b[0marrays\u001b[0m\u001b[1;33m)\u001b[0m\u001b[1;33m:\u001b[0m\u001b[1;33m\u001b[0m\u001b[0m\n",
      "\u001b[1;31mLinAlgError\u001b[0m: 0-dimensional array given. Array must be two-dimensional"
     ]
    }
   ],
   "source": [
    "theta, res, rank, s = np.linalg.lstsq(X, y, rcond=None)"
   ]
  },
  {
   "cell_type": "code",
   "execution_count": 172,
   "metadata": {},
   "outputs": [
    {
     "data": {
      "text/plain": [
       "0.5581"
      ]
     },
     "execution_count": 172,
     "metadata": {},
     "output_type": "execute_result"
    }
   ],
   "source": [
    "def acc(data, theta, label):\n",
    "    score = []\n",
    "    for i in range(len(data)):\n",
    "        prod = np.dot(data[i], theta).round()\n",
    "        if prod == label[i]:\n",
    "            score.append(1)\n",
    "        else:\n",
    "            score.append(0)\n",
    "    return sum(score) / len(score)\n",
    "acc(X, theta, y)"
   ]
  },
  {
   "cell_type": "code",
   "execution_count": 173,
   "metadata": {},
   "outputs": [
    {
     "data": {
      "text/plain": [
       "0.29718"
      ]
     },
     "execution_count": 173,
     "metadata": {},
     "output_type": "execute_result"
    }
   ],
   "source": [
    "acc(X_valid, theta, y_valid)"
   ]
  },
  {
   "cell_type": "markdown",
   "metadata": {},
   "source": [
    "accuracy without counts of each star ratings:<br>\n",
    "    classification:<br>\n",
    "        training: 0.64223<br>\n",
    "        valid: 0.62768<br>\n",
    "    regression:<br>\n",
    "        training: 0.39779<br>\n",
    "        valid: 0.39296<br>"
   ]
  },
  {
   "cell_type": "markdown",
   "metadata": {},
   "source": [
    "accuracy with counts of each star ratings:<br>\n",
    "    classification:<br>\n",
    "        training: 0.92509<br>\n",
    "        valid: 0.53912<br>\n",
    "    regression:<br>\n",
    "        training: 0.55329<br>\n",
    "        valid: 0.30124<br>\n",
    "      "
   ]
  },
  {
   "cell_type": "markdown",
   "metadata": {},
   "source": [
    "accuracy with counts of each star ratings:<br>\n",
    "    classification:<br>\n",
    "        training: 0.9264<br>\n",
    "        valid: 0.53912<br>\n",
    "    regression:<br>\n",
    "        training: 0.55329<br>\n",
    "        valid: 0.30124<br>"
   ]
  },
  {
   "cell_type": "markdown",
   "metadata": {},
   "source": []
  },
  {
   "cell_type": "code",
   "execution_count": 151,
   "metadata": {},
   "outputs": [],
   "source": [
    "usefulCount = defaultdict(int)\n",
    "coolCount = defaultdict(int)\n",
    "funnyCount = defaultdict(int)\n",
    "for d in training:\n",
    "    star = d['stars']\n",
    "    if star == 1:\n",
    "        usefulCount[1] += d['useful']\n",
    "        coolCount[1] += d['cool']\n",
    "        funnyCount[1] += d['funny']\n",
    "    elif star == 2:\n",
    "        usefulCount[2] += d['useful']\n",
    "        coolCount[2] += d['cool']\n",
    "        funnyCount[2] += d['funny']\n",
    "    elif star == 3:\n",
    "        usefulCount[3] += d['useful']\n",
    "        coolCount[3] += d['cool']\n",
    "        funnyCount[3] += d['funny']\n",
    "    elif star == 4:\n",
    "        usefulCount[4] += d['useful']\n",
    "        coolCount[4] += d['cool']\n",
    "        funnyCount[4] += d['funny']\n",
    "    elif star == 5:\n",
    "        usefulCount[5] += d['useful']\n",
    "        coolCount[5] += d['cool']\n",
    "        funnyCount[5] += d['funny']"
   ]
  },
  {
   "cell_type": "code",
   "execution_count": 156,
   "metadata": {},
   "outputs": [
    {
     "data": {
      "text/plain": [
       "defaultdict(int, {2: 5448, 5: 14333, 3: 6465, 1: 9919, 4: 12515})"
      ]
     },
     "execution_count": 156,
     "metadata": {},
     "output_type": "execute_result"
    }
   ],
   "source": [
    "funnyCount"
   ]
  },
  {
   "cell_type": "markdown",
   "metadata": {},
   "source": [
    "Evaluate results "
   ]
  },
  {
   "cell_type": "code",
   "execution_count": 46,
   "metadata": {},
   "outputs": [],
   "source": [
    "xs, ys = [], []\n",
    "for d in datum:\n",
    "    ys.append(d['stars'])\n",
    "    xs.append(d['text'])"
   ]
  },
  {
   "cell_type": "code",
   "execution_count": 47,
   "metadata": {},
   "outputs": [],
   "source": [
    "vectorizer = TfidfVectorizer(ngram_range=(1,2))\n",
    "vectors = vectorizer.fit_transform(xs)"
   ]
  },
  {
   "cell_type": "code",
   "execution_count": 48,
   "metadata": {},
   "outputs": [],
   "source": [
    "from sklearn.model_selection import train_test_split\n",
    "X_train, X_test, y_train, y_test = train_test_split(vectors, ys, test_size=0.2, random_state=1)\n",
    "\n",
    "X_train, X_val, y_train, y_val = train_test_split(X_train, y_train, test_size=0.2, random_state=1)"
   ]
  },
  {
   "cell_type": "code",
   "execution_count": 25,
   "metadata": {},
   "outputs": [
    {
     "name": "stderr",
     "output_type": "stream",
     "text": [
      "E:\\Anaconda\\lib\\site-packages\\sklearn\\ensemble\\weight_boosting.py:29: DeprecationWarning: numpy.core.umath_tests is an internal NumPy module and should not be imported. It will be removed in a future NumPy release.\n",
      "  from numpy.core.umath_tests import inner1d\n"
     ]
    }
   ],
   "source": [
    "from sklearn.ensemble import RandomForestClassifier"
   ]
  },
  {
   "cell_type": "code",
   "execution_count": 72,
   "metadata": {},
   "outputs": [
    {
     "name": "stdout",
     "output_type": "stream",
     "text": [
      "25000 25000\n"
     ]
    }
   ],
   "source": [
    "print(len(X_test), len(y_test))"
   ]
  },
  {
   "cell_type": "code",
   "execution_count": 49,
   "metadata": {},
   "outputs": [
    {
     "data": {
      "text/plain": [
       "RandomForestClassifier(bootstrap=True, class_weight=None, criterion='gini',\n",
       "            max_depth=None, max_features='auto', max_leaf_nodes=None,\n",
       "            min_impurity_decrease=0.0, min_impurity_split=None,\n",
       "            min_samples_leaf=1, min_samples_split=2,\n",
       "            min_weight_fraction_leaf=0.0, n_estimators=10, n_jobs=1,\n",
       "            oob_score=False, random_state=None, verbose=0,\n",
       "            warm_start=False)"
      ]
     },
     "execution_count": 49,
     "metadata": {},
     "output_type": "execute_result"
    }
   ],
   "source": [
    "clf = RandomForestClassifier()\n",
    "clf.fit(X_train, y_train)"
   ]
  },
  {
   "cell_type": "code",
   "execution_count": 50,
   "metadata": {},
   "outputs": [
    {
     "data": {
      "text/plain": [
       "0.9914464285714286"
      ]
     },
     "execution_count": 50,
     "metadata": {},
     "output_type": "execute_result"
    }
   ],
   "source": [
    "clf.score(X_train, y_train)"
   ]
  },
  {
   "cell_type": "code",
   "execution_count": 52,
   "metadata": {},
   "outputs": [
    {
     "data": {
      "text/plain": [
       "0.5251428571428571"
      ]
     },
     "execution_count": 52,
     "metadata": {},
     "output_type": "execute_result"
    }
   ],
   "source": [
    "clf.score(X_val, y_val)"
   ]
  },
  {
   "cell_type": "code",
   "execution_count": 53,
   "metadata": {},
   "outputs": [
    {
     "data": {
      "text/plain": [
       "0.5252285714285714"
      ]
     },
     "execution_count": 53,
     "metadata": {},
     "output_type": "execute_result"
    }
   ],
   "source": [
    "clf.score(X_test, y_test)"
   ]
  },
  {
   "cell_type": "markdown",
   "metadata": {},
   "source": [
    "feat 4:<br>\n",
    "training = 0.99169<br>\n",
    "valid = 0.5247<br>\n",
    "test = 0.52488<br>\n",
    "feat 3:<br>\n",
    "training = 0.99065<br>\n",
    "valid = 0.52778<br>\n",
    "test = 0.51772<br>\n",
    "feat1:<br>\n",
    "training = 0.99104<br>\n",
    "valid = 0.52738<br>\n",
    "test = 0.52096<br>"
   ]
  },
  {
   "cell_type": "code",
   "execution_count": 33,
   "metadata": {},
   "outputs": [
    {
     "data": {
      "text/plain": [
       "LinearSVC(C=1.0, class_weight=None, dual=True, fit_intercept=True,\n",
       "     intercept_scaling=1, loss='squared_hinge', max_iter=1000,\n",
       "     multi_class='ovr', penalty='l2', random_state=None, tol=0.0001,\n",
       "     verbose=0)"
      ]
     },
     "execution_count": 33,
     "metadata": {},
     "output_type": "execute_result"
    }
   ],
   "source": [
    "model = svm.LinearSVC(C=0.001)\n",
    "model.fit(X_train, y_train)"
   ]
  },
  {
   "cell_type": "code",
   "execution_count": 34,
   "metadata": {},
   "outputs": [
    {
     "data": {
      "text/plain": [
       "0.9978928571428571"
      ]
     },
     "execution_count": 34,
     "metadata": {},
     "output_type": "execute_result"
    }
   ],
   "source": [
    "model.score(X_train, y_train)"
   ]
  },
  {
   "cell_type": "code",
   "execution_count": 35,
   "metadata": {},
   "outputs": [
    {
     "data": {
      "text/plain": [
       "0.6715142857142857"
      ]
     },
     "execution_count": 35,
     "metadata": {},
     "output_type": "execute_result"
    }
   ],
   "source": [
    "model.score(X_test, y_test)"
   ]
  },
  {
   "cell_type": "code",
   "execution_count": 36,
   "metadata": {},
   "outputs": [
    {
     "data": {
      "text/plain": [
       "0.6749642857142857"
      ]
     },
     "execution_count": 36,
     "metadata": {},
     "output_type": "execute_result"
    }
   ],
   "source": [
    "model.score(X_val, y_val)"
   ]
  },
  {
   "cell_type": "code",
   "execution_count": 37,
   "metadata": {},
   "outputs": [
    {
     "name": "stdout",
     "output_type": "stream",
     "text": [
      "0.9978928571428571\n"
     ]
    }
   ],
   "source": [
    "from sklearn.metrics import accuracy_score\n",
    "preds = model.predict(X_train)\n",
    "print(accuracy_score(y_train, preds))"
   ]
  },
  {
   "cell_type": "code",
   "execution_count": null,
   "metadata": {},
   "outputs": [],
   "source": []
  },
  {
   "cell_type": "code",
   "execution_count": 44,
   "metadata": {},
   "outputs": [],
   "source": [
    "documents = []\n",
    "for d in training:\n",
    "    documents.append(d['text'])"
   ]
  },
  {
   "cell_type": "code",
   "execution_count": 45,
   "metadata": {},
   "outputs": [],
   "source": [
    "def idf(documents, word):\n",
    "    alpha = 0.001\n",
    "    top = len(documents) + alpha\n",
    "    bot = alpha\n",
    "    for d in documents:\n",
    "        if word in d:\n",
    "            bot += 1\n",
    "    return np.log(top / bot)\n",
    "\n",
    "def tf(document, word):\n",
    "    freq = 0\n",
    "    for w in document.split():\n",
    "        if w == word:\n",
    "            freq += 1\n",
    "    return freq\n",
    "\n",
    "def tf_idf(word, documents, document):\n",
    "    return (tf(document, word) * idf(documents, word))"
   ]
  },
  {
   "cell_type": "code",
   "execution_count": null,
   "metadata": {},
   "outputs": [],
   "source": [
    "X_train = []\n",
    "y_train = []\n",
    "for d in training:\n",
    "    for w in d['text'].split():\n",
    "        X_train.append(tf_idf(w, documents, d['text']))\n",
    "    y_train.append(d['stars'])\n",
    "print(len(X_train), len(y_train))"
   ]
  },
  {
   "cell_type": "code",
   "execution_count": 69,
   "metadata": {},
   "outputs": [
    {
     "data": {
      "text/plain": [
       "50000"
      ]
     },
     "execution_count": 69,
     "metadata": {},
     "output_type": "execute_result"
    }
   ],
   "source": [
    "len(X_valid)"
   ]
  },
  {
   "cell_type": "code",
   "execution_count": 30,
   "metadata": {},
   "outputs": [],
   "source": [
    "from sklearn.neural_network import MLPClassifier"
   ]
  },
  {
   "cell_type": "code",
   "execution_count": 84,
   "metadata": {},
   "outputs": [
    {
     "data": {
      "text/plain": [
       "MLPClassifier(activation='relu', alpha=1e-05, batch_size='auto', beta_1=0.9,\n",
       "       beta_2=0.999, early_stopping=False, epsilon=1e-08,\n",
       "       hidden_layer_sizes=(20, 5), learning_rate='constant',\n",
       "       learning_rate_init=0.001, max_iter=200, momentum=0.9,\n",
       "       nesterovs_momentum=True, power_t=0.5, random_state=1, shuffle=True,\n",
       "       solver='lbfgs', tol=0.0001, validation_fraction=0.1, verbose=False,\n",
       "       warm_start=False)"
      ]
     },
     "execution_count": 84,
     "metadata": {},
     "output_type": "execute_result"
    }
   ],
   "source": [
    "clf = MLPClassifier(solver='lbfgs', alpha=1e-5, hidden_layer_sizes=(20, 5), random_state=1)\n",
    "clf.fit(X, y)"
   ]
  },
  {
   "cell_type": "code",
   "execution_count": 85,
   "metadata": {},
   "outputs": [
    {
     "data": {
      "text/plain": [
       "0.60355"
      ]
     },
     "execution_count": 85,
     "metadata": {},
     "output_type": "execute_result"
    }
   ],
   "source": [
    "clf.score(X, y)"
   ]
  },
  {
   "cell_type": "code",
   "execution_count": 86,
   "metadata": {},
   "outputs": [
    {
     "data": {
      "text/plain": [
       "0.5984"
      ]
     },
     "execution_count": 86,
     "metadata": {},
     "output_type": "execute_result"
    }
   ],
   "source": [
    "clf.score(X_valid, y_valid)"
   ]
  },
  {
   "cell_type": "code",
   "execution_count": 87,
   "metadata": {},
   "outputs": [
    {
     "data": {
      "text/plain": [
       "0.59504"
      ]
     },
     "execution_count": 87,
     "metadata": {},
     "output_type": "execute_result"
    }
   ],
   "source": [
    "clf.score(X_test, y_test)"
   ]
  },
  {
   "cell_type": "markdown",
   "metadata": {},
   "source": [
    "feat 4:<br>\n",
    "training = 0.44102<br>\n",
    "valid = 0.44106<br>\n",
    "test = 0.44152<br>\n",
    "feat 3:<br>\n",
    "training = 0.43979<br>\n",
    "valid = 0.44688<br>\n",
    "test = 0.4348<br>\n",
    "feat 1:<br>"
   ]
  },
  {
   "cell_type": "code",
   "execution_count": null,
   "metadata": {},
   "outputs": [],
   "source": []
  }
 ],
 "metadata": {
  "kernelspec": {
   "display_name": "Python 3",
   "language": "python",
   "name": "python3"
  },
  "language_info": {
   "codemirror_mode": {
    "name": "ipython",
    "version": 3
   },
   "file_extension": ".py",
   "mimetype": "text/x-python",
   "name": "python",
   "nbconvert_exporter": "python",
   "pygments_lexer": "ipython3",
   "version": "3.7.0"
  }
 },
 "nbformat": 4,
 "nbformat_minor": 2
}
